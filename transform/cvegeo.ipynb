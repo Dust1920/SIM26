{
 "cells": [
  {
   "cell_type": "markdown",
   "metadata": {},
   "source": [
    "# CVEGEO"
   ]
  },
  {
   "cell_type": "code",
   "execution_count": 1,
   "metadata": {},
   "outputs": [],
   "source": [
    "import zipfile\n",
    "import os\n",
    "\n",
    "\n",
    "with zipfile.ZipFile(\"..\\\\medium_data\\\\mexico_data\\\\26_sonora.zip\", 'r') as cvegeo:\n",
    "    os.mkdir('..\\\\medium_data\\\\mexico_data\\\\Sonora')\n",
    "    cvegeo.extractall(\"..\\\\medium_data\\\\mexico_data\\\\Sonora\")"
   ]
  },
  {
   "cell_type": "markdown",
   "metadata": {},
   "source": [
    "Una vez extraemos los datos del .zip. Vamos a extraer los datos que nos interesan. "
   ]
  },
  {
   "cell_type": "code",
   "execution_count": 4,
   "metadata": {},
   "outputs": [
    {
     "data": {
      "text/plain": [
       "['26a.shp',\n",
       " '26ar.shp',\n",
       " '26cd.shp',\n",
       " '26e.shp',\n",
       " '26ent.shp',\n",
       " '26fm.shp',\n",
       " '26l.shp',\n",
       " '26lpr.shp',\n",
       " '26m.shp',\n",
       " '26mun.shp',\n",
       " '26pe.shp',\n",
       " '26pem.shp',\n",
       " '26sia.shp',\n",
       " '26sil.shp',\n",
       " '26sip.shp',\n",
       " '26ti.shp']"
      ]
     },
     "execution_count": 4,
     "metadata": {},
     "output_type": "execute_result"
    }
   ],
   "source": [
    "shapes = []\n",
    "\n",
    "for e in os.listdir(\"..\\\\medium_data\\\\mexico_data\\\\Sonora\\\\conjunto_de_datos\"):\n",
    "    if e.endswith(\".shp\"):\n",
    "        shapes.append(e)\n",
    "shapes"
   ]
  },
  {
   "cell_type": "markdown",
   "metadata": {},
   "source": [
    "Ahora extraemos los datos georeferenciados. "
   ]
  },
  {
   "cell_type": "code",
   "execution_count": 8,
   "metadata": {},
   "outputs": [
    {
     "data": {
      "text/plain": [
       "['..\\\\medium_data\\\\mexico_data\\\\Sonora\\\\conjunto_de_datos\\\\26a.shp',\n",
       " '..\\\\medium_data\\\\mexico_data\\\\Sonora\\\\conjunto_de_datos\\\\26ar.shp',\n",
       " '..\\\\medium_data\\\\mexico_data\\\\Sonora\\\\conjunto_de_datos\\\\26cd.shp',\n",
       " '..\\\\medium_data\\\\mexico_data\\\\Sonora\\\\conjunto_de_datos\\\\26e.shp',\n",
       " '..\\\\medium_data\\\\mexico_data\\\\Sonora\\\\conjunto_de_datos\\\\26ent.shp',\n",
       " '..\\\\medium_data\\\\mexico_data\\\\Sonora\\\\conjunto_de_datos\\\\26fm.shp',\n",
       " '..\\\\medium_data\\\\mexico_data\\\\Sonora\\\\conjunto_de_datos\\\\26l.shp',\n",
       " '..\\\\medium_data\\\\mexico_data\\\\Sonora\\\\conjunto_de_datos\\\\26lpr.shp',\n",
       " '..\\\\medium_data\\\\mexico_data\\\\Sonora\\\\conjunto_de_datos\\\\26m.shp',\n",
       " '..\\\\medium_data\\\\mexico_data\\\\Sonora\\\\conjunto_de_datos\\\\26mun.shp',\n",
       " '..\\\\medium_data\\\\mexico_data\\\\Sonora\\\\conjunto_de_datos\\\\26pe.shp',\n",
       " '..\\\\medium_data\\\\mexico_data\\\\Sonora\\\\conjunto_de_datos\\\\26pem.shp',\n",
       " '..\\\\medium_data\\\\mexico_data\\\\Sonora\\\\conjunto_de_datos\\\\26sia.shp',\n",
       " '..\\\\medium_data\\\\mexico_data\\\\Sonora\\\\conjunto_de_datos\\\\26sil.shp',\n",
       " '..\\\\medium_data\\\\mexico_data\\\\Sonora\\\\conjunto_de_datos\\\\26sip.shp',\n",
       " '..\\\\medium_data\\\\mexico_data\\\\Sonora\\\\conjunto_de_datos\\\\26ti.shp']"
      ]
     },
     "execution_count": 8,
     "metadata": {},
     "output_type": "execute_result"
    }
   ],
   "source": [
    "import geopandas as gpd\n",
    "import fiona \n",
    "\n",
    "geo_path_base = \"..\\\\medium_data\\\\mexico_data\\\\Sonora\\\\conjunto_de_datos\"\n",
    "geo_paths = [os.path.join(geo_path_base, f) for f in shapes]\n",
    "geo_paths"
   ]
  },
  {
   "cell_type": "code",
   "execution_count": 9,
   "metadata": {},
   "outputs": [],
   "source": [
    "def cvegeo(shape):\n",
    "    municipies = fiona.open(shape)\n",
    "    df = gpd.GeoDataFrame.from_features([feature for feature in municipies])\n",
    "    # Get the order of the fields in the Fiona Collection; add geometry to the end\n",
    "    columns = list(municipies.meta[\"schema\"][\"properties\"]) + [\"geometry\"]\n",
    "    # Re-order columns in the correct order\n",
    "    df = df[columns]\n",
    "    return df\n",
    "\n",
    "\n",
    "geo_dfs = [cvegeo(path) for path in geo_paths]"
   ]
  },
  {
   "cell_type": "code",
   "execution_count": 10,
   "metadata": {},
   "outputs": [],
   "source": [
    "geo_names = [t.replace(\".shp\",\"\") for t in shapes]\n",
    "\n",
    "for i, name in enumerate(geo_names):\n",
    "    geo_dfs[i].to_excel(f\"..\\\\visualization\\\\cvegeo_data\\\\{name}.xlsx\")"
   ]
  },
  {
   "cell_type": "markdown",
   "metadata": {},
   "source": [
    "Entonces, tenemos la infomración "
   ]
  }
 ],
 "metadata": {
  "kernelspec": {
   "display_name": "ISAF",
   "language": "python",
   "name": "python3"
  },
  "language_info": {
   "codemirror_mode": {
    "name": "ipython",
    "version": 3
   },
   "file_extension": ".py",
   "mimetype": "text/x-python",
   "name": "python",
   "nbconvert_exporter": "python",
   "pygments_lexer": "ipython3",
   "version": "3.10.13"
  }
 },
 "nbformat": 4,
 "nbformat_minor": 2
}
