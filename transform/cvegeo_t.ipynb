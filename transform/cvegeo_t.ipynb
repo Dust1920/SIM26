{
 "cells": [
  {
   "cell_type": "code",
   "execution_count": 1,
   "metadata": {},
   "outputs": [],
   "source": [
    "import zipfile\n",
    "import os\n",
    "\n",
    "raw_path = \"..\\\\raw_data\"\n",
    "filename = \"26_SCINCE_zip.zip\"\n",
    "with zipfile.ZipFile(os.path.join(raw_path, filename), 'r') as cvegeo:\n",
    "    cvegeo.extractall(\"..\\\\medium_data\\\\geoSonora\")"
   ]
  },
  {
   "cell_type": "markdown",
   "metadata": {},
   "source": [
    "Una vez extraemos los datos del .zip. Vamos a extraer los datos que nos interesan. "
   ]
  },
  {
   "cell_type": "code",
   "execution_count": 4,
   "metadata": {},
   "outputs": [
    {
     "name": "stdout",
     "output_type": "stream",
     "text": [
      "['ageb_urb.shp', 'eje_vial.shp', 'estatal.shp', 'loc_rur.shp', 'loc_urb.shp', 'manzanas.shp', 'municipal.shp', 'servicios_a.shp', 'servicios_l.shp', 'servicios_p.shp']\n"
     ]
    }
   ],
   "source": [
    "shapes = []\n",
    "\n",
    "for e in os.listdir(\"..\\\\raw_data\\\\geoSonora\\\\26\"):\n",
    "    if e.endswith(\".shp\"):\n",
    "        shapes.append(e)"
   ]
  },
  {
   "cell_type": "markdown",
   "metadata": {},
   "source": [
    "Ahora extraemos los datos georeferenciados. "
   ]
  },
  {
   "cell_type": "code",
   "execution_count": 7,
   "metadata": {},
   "outputs": [
    {
     "data": {
      "text/plain": [
       "['..\\\\raw_data\\\\geoSonora\\\\26\\\\ageb_urb.shp',\n",
       " '..\\\\raw_data\\\\geoSonora\\\\26\\\\eje_vial.shp',\n",
       " '..\\\\raw_data\\\\geoSonora\\\\26\\\\estatal.shp',\n",
       " '..\\\\raw_data\\\\geoSonora\\\\26\\\\loc_rur.shp',\n",
       " '..\\\\raw_data\\\\geoSonora\\\\26\\\\loc_urb.shp',\n",
       " '..\\\\raw_data\\\\geoSonora\\\\26\\\\manzanas.shp',\n",
       " '..\\\\raw_data\\\\geoSonora\\\\26\\\\municipal.shp',\n",
       " '..\\\\raw_data\\\\geoSonora\\\\26\\\\servicios_a.shp',\n",
       " '..\\\\raw_data\\\\geoSonora\\\\26\\\\servicios_l.shp',\n",
       " '..\\\\raw_data\\\\geoSonora\\\\26\\\\servicios_p.shp']"
      ]
     },
     "execution_count": 7,
     "metadata": {},
     "output_type": "execute_result"
    }
   ],
   "source": [
    "import geopandas as gpd\n",
    "import fiona \n",
    "\n",
    "geo_path_base = \"..\\\\raw_data\\\\geoSonora\\\\26\"\n",
    "geo_paths = [os.path.join(geo_path_base, f) for f in shapes]\n"
   ]
  },
  {
   "cell_type": "code",
   "execution_count": 15,
   "metadata": {},
   "outputs": [],
   "source": [
    "def cvegeo(shape):\n",
    "    municipies = fiona.open(shape)\n",
    "    df = gpd.GeoDataFrame.from_features([feature for feature in municipies])\n",
    "    # Get the order of the fields in the Fiona Collection; add geometry to the end\n",
    "    columns = list(municipies.meta[\"schema\"][\"properties\"]) + [\"geometry\"]\n",
    "    # Re-order columns in the correct order\n",
    "    df = df[columns]\n",
    "    return df\n",
    "\n",
    "\n",
    "geo_dfs = [cvegeo(path) for path in geo_paths]"
   ]
  },
  {
   "cell_type": "code",
   "execution_count": 29,
   "metadata": {},
   "outputs": [],
   "source": [
    "geo_names = [\"ageb\",\"eje_vial\",\"estatal\",\"loc_rur\",\"loc_urb\",\"manzanas\",\"municipal\",\"serv_a\",\"serv_l\",\"serv_p\"]\n",
    "\n",
    "for i, name in enumerate(geo_names):\n",
    "    geo_dfs[i].to_excel(f\"..\\\\visualization\\\\cvegeo_data\\\\{name}.xlsx\")"
   ]
  }
 ],
 "metadata": {
  "kernelspec": {
   "display_name": "ISAF",
   "language": "python",
   "name": "python3"
  },
  "language_info": {
   "codemirror_mode": {
    "name": "ipython",
    "version": 3
   },
   "file_extension": ".py",
   "mimetype": "text/x-python",
   "name": "python",
   "nbconvert_exporter": "python",
   "pygments_lexer": "ipython3",
   "version": "3.10.13"
  }
 },
 "nbformat": 4,
 "nbformat_minor": 2
}
