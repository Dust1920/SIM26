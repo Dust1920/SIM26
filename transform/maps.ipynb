{
 "cells": [
  {
   "cell_type": "markdown",
   "metadata": {},
   "source": [
    "# Mapas en Visualización de Datos. \n",
    "\n",
    "Aquí, vamos a construir los mapas de la Republica Mexicana y sus estados usando Python, en particular el generado con la librería `geopandas`.\n",
    " \n",
    " Entonces, primero vamos a recuperar el archivo de los mapas. \n",
    "\n",
    " ## México"
   ]
  },
  {
   "cell_type": "code",
   "execution_count": 1,
   "metadata": {},
   "outputs": [],
   "source": [
    "import zipfile\n",
    "import os\n",
    "\n",
    "mexico_data = \"..\\\\medium_data\\\\mexico_data\"\n",
    "zlist = os.listdir(mexico_data)"
   ]
  },
  {
   "cell_type": "markdown",
   "metadata": {},
   "source": [
    "Ahora crearemos una carpeta para guardar los datos."
   ]
  },
  {
   "cell_type": "code",
   "execution_count": 2,
   "metadata": {},
   "outputs": [
    {
     "name": "stdout",
     "output_type": "stream",
     "text": [
      "Hubo un detalle\n"
     ]
    }
   ],
   "source": [
    "folder_path = mexico_data + '\\\\Mexico'\n",
    "try:\n",
    "    os.mkdir(mexico_data + '\\\\Mexico')\n",
    "except:\n",
    "    print('Hubo un detalle')"
   ]
  },
  {
   "cell_type": "code",
   "execution_count": 3,
   "metadata": {},
   "outputs": [
    {
     "data": {
      "text/plain": [
       "['00a.cpg',\n",
       " '00a.dbf',\n",
       " '00a.prj',\n",
       " '00a.shp',\n",
       " '00a.shx',\n",
       " '00ent.cpg',\n",
       " '00ent.dbf',\n",
       " '00ent.prj',\n",
       " '00ent.shp',\n",
       " '00ent.shx',\n",
       " '00l.cpg',\n",
       " '00l.dbf',\n",
       " '00l.prj',\n",
       " '00l.shp',\n",
       " '00l.shx',\n",
       " '00lpr.cpg',\n",
       " '00lpr.dbf',\n",
       " '00lpr.prj',\n",
       " '00lpr.shp',\n",
       " '00lpr.shx',\n",
       " '00mun.cpg',\n",
       " '00mun.dbf',\n",
       " '00mun.prj',\n",
       " '00mun.shp',\n",
       " '00mun.shx']"
      ]
     },
     "execution_count": 3,
     "metadata": {},
     "output_type": "execute_result"
    }
   ],
   "source": [
    "mg_zip = mexico_data + \"\\\\mg_2023_integrado.zip\"\n",
    "\n",
    "with zipfile.ZipFile(mg_zip, 'r') as mex:\n",
    "    mex.extractall(folder_path)\n",
    "\n",
    "mg_path = mexico_data + \"\\\\Mexico\\\\conjunto_de_datos\"\n",
    "\n",
    "mg_list = os.listdir(mg_path)\n",
    "mg_list"
   ]
  },
  {
   "cell_type": "code",
   "execution_count": 4,
   "metadata": {},
   "outputs": [
    {
     "data": {
      "text/plain": [
       "['..\\\\medium_data\\\\mexico_data\\\\Mexico\\\\conjunto_de_datos\\\\00a.shp',\n",
       " '..\\\\medium_data\\\\mexico_data\\\\Mexico\\\\conjunto_de_datos\\\\00ent.shp',\n",
       " '..\\\\medium_data\\\\mexico_data\\\\Mexico\\\\conjunto_de_datos\\\\00l.shp',\n",
       " '..\\\\medium_data\\\\mexico_data\\\\Mexico\\\\conjunto_de_datos\\\\00lpr.shp',\n",
       " '..\\\\medium_data\\\\mexico_data\\\\Mexico\\\\conjunto_de_datos\\\\00mun.shp']"
      ]
     },
     "execution_count": 4,
     "metadata": {},
     "output_type": "execute_result"
    }
   ],
   "source": [
    "import fiona\n",
    "\n",
    "geo_path_base = \"..\\\\medium_data\\\\mexico_data\\\\Mexico\\\\conjunto_de_datos\"\n",
    "geo_paths = []\n",
    "for file in mg_list:\n",
    "    if file.endswith(\".shp\"):\n",
    "        geo_paths.append(os.path.join(geo_path_base, file))\n",
    "geo_paths"
   ]
  },
  {
   "cell_type": "code",
   "execution_count": 5,
   "metadata": {},
   "outputs": [],
   "source": [
    "import geopandas as gpd\n",
    "\n",
    "def cvegeo(shape):\n",
    "    municipies = fiona.open(shape)\n",
    "    df = gpd.GeoDataFrame.from_features([feature for feature in municipies])\n",
    "    # Get the order of the fields in the Fiona Collection; add geometry to the end\n",
    "    columns = list(municipies.meta[\"schema\"][\"properties\"]) + [\"geometry\"]\n",
    "    # Re-order columns in the correct order\n",
    "    df = df[columns]\n",
    "    return df\n",
    "\n",
    "mexico = cvegeo(geo_paths[1])"
   ]
  },
  {
   "cell_type": "markdown",
   "metadata": {},
   "source": [
    "# Sonora"
   ]
  },
  {
   "cell_type": "code",
   "execution_count": 6,
   "metadata": {},
   "outputs": [
    {
     "name": "stdout",
     "output_type": "stream",
     "text": [
      "Hubo un detalle\n"
     ]
    }
   ],
   "source": [
    "geo_path_base = \"..\\\\medium_data\\\\mexico_data\\\\Sonora\\\\conjunto_de_datos\"\n",
    "geo_paths = []\n",
    "folder_path = mexico_data + '\\\\Sonora'\n",
    "try:\n",
    "    os.mkdir(folder_path)\n",
    "except:\n",
    "    print('Hubo un detalle')\n",
    "\n",
    "\n",
    "\n",
    "with zipfile.ZipFile(mexico_data + '\\\\26_sonora.zip', 'r') as son:\n",
    "    son.extractall(folder_path)\n",
    "\n",
    "sonora_list = os.listdir(folder_path + \"\\\\conjunto_de_datos\")\n",
    "for file in sonora_list:\n",
    "    if file.endswith(\".shp\"):\n",
    "        geo_paths.append(os.path.join(geo_path_base, file))\n",
    "        \n",
    "sonora_cvegeo = cvegeo(geo_paths[9])"
   ]
  },
  {
   "cell_type": "markdown",
   "metadata": {},
   "source": [
    "# Conclusion\n",
    "\n",
    "Terminamos guardando todo en un solo archivo. "
   ]
  },
  {
   "cell_type": "code",
   "execution_count": 8,
   "metadata": {},
   "outputs": [
    {
     "name": "stderr",
     "output_type": "stream",
     "text": [
      "c:\\Users\\Tamara\\anaconda3\\envs\\ISAF\\lib\\site-packages\\geopandas\\io\\file.py:299: FutureWarning: pandas.Int64Index is deprecated and will be removed from pandas in a future version. Use pandas.Index with the appropriate dtype instead.\n",
      "  pd.Int64Index,\n",
      "c:\\Users\\Tamara\\anaconda3\\envs\\ISAF\\lib\\site-packages\\geopandas\\io\\file.py:299: FutureWarning: pandas.Int64Index is deprecated and will be removed from pandas in a future version. Use pandas.Index with the appropriate dtype instead.\n",
      "  pd.Int64Index,\n"
     ]
    }
   ],
   "source": [
    "\n",
    "mex = mexico.copy()\n",
    "son = sonora_cvegeo.copy()\n",
    "\n",
    "mex = mexico[['NOMGEO','geometry']]\n",
    "son = son.sort_values('CVEGEO')\n",
    "son = son[['CVEGEO','NOMGEO','geometry']]\n",
    "son.reset_index(inplace=True, drop=True)\n",
    "\n",
    "\n",
    "mex.to_file('..\\\\geo_data\\\\Mexico.shp')\n",
    "son.to_file('..\\\\geo_data\\\\Sonora.shp')\n"
   ]
  }
 ],
 "metadata": {
  "kernelspec": {
   "display_name": "ISAF",
   "language": "python",
   "name": "python3"
  },
  "language_info": {
   "codemirror_mode": {
    "name": "ipython",
    "version": 3
   },
   "file_extension": ".py",
   "mimetype": "text/x-python",
   "name": "python",
   "nbconvert_exporter": "python",
   "pygments_lexer": "ipython3",
   "version": "3.10.13"
  }
 },
 "nbformat": 4,
 "nbformat_minor": 2
}
