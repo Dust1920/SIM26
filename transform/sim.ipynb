{
 "cells": [
  {
   "cell_type": "markdown",
   "metadata": {},
   "source": [
    "# Obtención de la Información.\n",
    "Una vez descargados los archivos, y colocados en su carpeta correspondiente podemos comenzar con la formateo, es decir, obtener las distintas tablas que vienen dentro de cada hoja.\n"
   ]
  },
  {
   "cell_type": "markdown",
   "metadata": {},
   "source": [
    "Ahora, procedemos a llamar el documento recien creado. "
   ]
  },
  {
   "cell_type": "code",
   "execution_count": 76,
   "metadata": {},
   "outputs": [],
   "source": [
    "import pandas as pd\n",
    "\n",
    "Sonora = pd.read_excel('..\\\\medium_data\\\\book_son.xlsx',sheet_name=None)\n",
    "Municipios = list(Sonora.keys())\n"
   ]
  },
  {
   "cell_type": "markdown",
   "metadata": {},
   "source": [
    "Ahora, debemos separar por bloques. Primero eliminamos la primer y segunda columna, son irrelevantes, tambien las columnas en blanco entre medias.  "
   ]
  },
  {
   "cell_type": "code",
   "execution_count": 77,
   "metadata": {},
   "outputs": [],
   "source": [
    "data = Sonora['Aconchi']\n",
    "data.head()\n",
    "\n",
    "df = data.copy()\n",
    "df.drop(columns=[\"Unnamed: 0.1\",\"Unnamed: 0\"], inplace=True)\n",
    "df.dropna(how = 'all', axis = 0, inplace=True)\n",
    "df.reset_index(drop=True,inplace=True)\n",
    "\n",
    "abs_index = []\n",
    "for i in range(len(df)):\n",
    "    if df.iloc[i, 1] == 'Absoluto':\n",
    "        abs_index.append(i)\n",
    "abs_index.append(len(df))"
   ]
  },
  {
   "cell_type": "markdown",
   "metadata": {},
   "source": [
    "Finalmente revisamos. "
   ]
  },
  {
   "cell_type": "code",
   "execution_count": 78,
   "metadata": {},
   "outputs": [],
   "source": [
    "new_dfs = []\n",
    "for a in range(len(abs_index) - 1):\n",
    "    u = df.iloc[abs_index[a]:abs_index[a + 1],:]\n",
    "    u = u.dropna(how = 'all', axis = 1) \n",
    "    new_dfs.append(u)"
   ]
  },
  {
   "cell_type": "markdown",
   "metadata": {},
   "source": [
    "Terminaremos aplicando todo a los 72 municipios. "
   ]
  },
  {
   "cell_type": "code",
   "execution_count": 79,
   "metadata": {},
   "outputs": [],
   "source": [
    "df = data.copy()\n",
    "\n",
    "def transform(mun: str):\n",
    "    df = Sonora[mun].copy()\n",
    "    df.drop(columns=[\"Unnamed: 0.1\",\"Unnamed: 0\"], inplace=True)\n",
    "    df.dropna(how = 'all', axis = 0, inplace=True)\n",
    "    df.reset_index(drop=True,inplace=True)\n",
    "\n",
    "    abs_index = []\n",
    "    for i in range(len(df)):\n",
    "        if df.iloc[i, 1] == 'Absoluto':\n",
    "            abs_index.append(i)\n",
    "    abs_index.append(len(df))\n",
    "    new_dfs = []\n",
    "    for a in range(len(abs_index) - 1):\n",
    "        u = df.iloc[abs_index[a]:abs_index[a + 1],:]\n",
    "        u = u.dropna(how = 'all', axis = 1) \n",
    "        new_dfs.append(u)\n",
    "    return new_dfs\n",
    "\n",
    "transform_muns = {mun : transform(mun) for mun in Municipios}"
   ]
  }
 ],
 "metadata": {
  "kernelspec": {
   "display_name": "base",
   "language": "python",
   "name": "python3"
  },
  "language_info": {
   "codemirror_mode": {
    "name": "ipython",
    "version": 3
   },
   "file_extension": ".py",
   "mimetype": "text/x-python",
   "name": "python",
   "nbconvert_exporter": "python",
   "pygments_lexer": "ipython3",
   "version": "3.10.13"
  }
 },
 "nbformat": 4,
 "nbformat_minor": 2
}
