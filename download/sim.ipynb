{
 "cells": [
  {
   "cell_type": "markdown",
   "metadata": {},
   "source": [
    "# Descarga de los Datos del Tablero. \n",
    "\n",
    "Por el momento no contamos con la descarga de los datos de forma programática, por lo tanto recurriremos a la descarga de forma manual y lo guardaremos en la carpeta Municipios, dentro del raw_data."
   ]
  },
  {
   "cell_type": "markdown",
   "metadata": {},
   "source": [
    "Una vez descargado los archivos de cada municipio, los juntaremos en un solo excel. "
   ]
  },
  {
   "cell_type": "code",
   "execution_count": 1,
   "metadata": {},
   "outputs": [],
   "source": [
    "import os\n",
    "import pandas as pd\n",
    "\n",
    "# Extraemos el listado de archivos tipo excel. \n",
    "sonora_data = os.listdir('..\\\\raw_data\\\\Municipios')\n",
    "\n",
    "# Definimos el constructor del archivo excel.\n",
    "excelw = pd.ExcelWriter('..\\\\medium_data\\\\book_son.xlsx')\n",
    "\n",
    "for mun in sonora_data:\n",
    "    muns = mun[4:-5]\n",
    "    path = '..\\\\raw_data\\\\Municipios\\\\' + mun\n",
    "    raw = pd.read_excel(path)\n",
    "    raw.to_excel(excelw, sheet_name=muns)\n",
    "\n",
    "excelw.close()"
   ]
  }
 ],
 "metadata": {
  "kernelspec": {
   "display_name": "ISAF",
   "language": "python",
   "name": "python3"
  },
  "language_info": {
   "codemirror_mode": {
    "name": "ipython",
    "version": 3
   },
   "file_extension": ".py",
   "mimetype": "text/x-python",
   "name": "python",
   "nbconvert_exporter": "python",
   "pygments_lexer": "ipython3",
   "version": "3.10.13"
  }
 },
 "nbformat": 4,
 "nbformat_minor": 2
}
