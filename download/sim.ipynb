{
 "cells": [
  {
   "cell_type": "markdown",
   "metadata": {},
   "source": [
    "# Descarga de los Datos del Tablero. \n",
    "\n",
    "Por el momento no contamos con la descarga de los datos de forma programática, por lo tanto recurriremos a la descarga de forma manual y lo guardaremos en la carpeta Municipios, dentro del raw_data."
   ]
  }
 ],
 "metadata": {
  "language_info": {
   "name": "python"
  }
 },
 "nbformat": 4,
 "nbformat_minor": 2
}
