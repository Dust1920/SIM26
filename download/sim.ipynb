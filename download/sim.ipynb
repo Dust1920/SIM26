{
 "cells": [
  {
   "cell_type": "markdown",
   "metadata": {},
   "source": [
    "# Descarga de los Datos del Tablero. \n",
    "\n",
    "Por el momento no contamos con la descarga de los datos de forma programática, por lo tanto recurriremos a la descarga de forma manual y lo guardaremos en la carpeta Municipios, dentro del raw_data."
   ]
  },
  {
   "cell_type": "markdown",
   "metadata": {},
   "source": [
    "Una vez descargado los archivos de cada municipio, los juntaremos en un solo excel. "
   ]
  },
  {
   "cell_type": "code",
   "execution_count": 1,
   "metadata": {},
   "outputs": [
    {
     "name": "stdout",
     "output_type": "stream",
     "text": [
      "Libro Creado\n"
     ]
    }
   ],
   "source": [
    "import son_book as sonb\n",
    "\n",
    "print('Libro Creado')\n",
    "\n",
    "\n",
    "\n",
    "\n",
    "\n",
    "import selenium as sel\n",
    "\n"
   ]
  }
 ],
 "metadata": {
  "kernelspec": {
   "display_name": "ISAF",
   "language": "python",
   "name": "python3"
  },
  "language_info": {
   "codemirror_mode": {
    "name": "ipython",
    "version": 3
   },
   "file_extension": ".py",
   "mimetype": "text/x-python",
   "name": "python",
   "nbconvert_exporter": "python",
   "pygments_lexer": "ipython3",
   "version": "3.10.13"
  }
 },
 "nbformat": 4,
 "nbformat_minor": 2
}
