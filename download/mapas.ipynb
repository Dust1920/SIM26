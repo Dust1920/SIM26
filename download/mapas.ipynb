{
 "cells": [
  {
   "cell_type": "markdown",
   "metadata": {},
   "source": [
    "# Visualizando con Mapas. \n",
    "\n",
    "Una parte interesante dentro de la visualización de datos, es el uso de mapas para la visualización de datos geoestadisticos. Nosotros usaremos `geopandas`, una variante de pandas para datos georeferenciados.\n",
    "\n",
    "Aqui, nos centraremos en la descarga del archivo principal, los .shp. Los que geopandas leera y podrá construir los mapas. Para esto haremos uso de la librería de `requests`."
   ]
  },
  {
   "cell_type": "code",
   "execution_count": 3,
   "metadata": {},
   "outputs": [],
   "source": [
    "import requests as r\n",
    "\n",
    "url1 = \"https://www.inegi.org.mx/contenidos/productos/prod_serv\"\n",
    "url2 = \"/contenidos/espanol/bvinegi/productos/geografia/marcogeo/794551067314_s.zip\"\n",
    "Mexico = url1 + url2\n",
    "# download the file contents in binary format \n",
    "r = r.get(Mexico)\n",
    "# open method to open a file on your system and write the contents \n",
    "with open(\"..\\\\raw_data\\\\Mexico.zip\", \"wb\") as code:\n",
    "    code.write(r.content)"
   ]
  },
  {
   "cell_type": "markdown",
   "metadata": {},
   "source": [
    "Como adicional vamos a extraer los archivos. "
   ]
  },
  {
   "cell_type": "code",
   "execution_count": null,
   "metadata": {},
   "outputs": [],
   "source": [
    "import zipfile\n",
    "\n",
    "with zipfile.ZipFile(\"..\\\\raw_data\\\\Mexico.zip\", 'r') as data:\n",
    "    data.extractall(\"..\\\\medium_data\\\\mexico_data\")"
   ]
  }
 ],
 "metadata": {
  "kernelspec": {
   "display_name": "ISAF",
   "language": "python",
   "name": "python3"
  },
  "language_info": {
   "codemirror_mode": {
    "name": "ipython",
    "version": 3
   },
   "file_extension": ".py",
   "mimetype": "text/x-python",
   "name": "python",
   "nbconvert_exporter": "python",
   "pygments_lexer": "ipython3",
   "version": "3.10.13"
  }
 },
 "nbformat": 4,
 "nbformat_minor": 2
}
