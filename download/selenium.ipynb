{
 "cells": [
  {
   "cell_type": "code",
   "execution_count": 20,
   "metadata": {},
   "outputs": [],
   "source": [
    "import downtools as down\n",
    "import zipfile\n",
    "\n",
    "url_edge = \"https://msedgedriver.azureedge.net/120.0.2210.121/edgedriver_win64.zip\"\n",
    "\n",
    "down.downxlsx(url_edge, '..\\\\raw_data\\\\webdriver.zip')\n",
    "\n",
    "with zipfile.ZipFile(\"..\\\\raw_data\\\\webdriver.zip\", 'r') as webdriver:\n",
    "    webdriver.extractall(\"webdriver\")"
   ]
  },
  {
   "cell_type": "code",
   "execution_count": 21,
   "metadata": {},
   "outputs": [
    {
     "ename": "PermissionError",
     "evalue": "[Errno 13] Permission denied: 'webdriver_chrome\\\\chromedriver-win64\\\\chromedriver.exe'",
     "output_type": "error",
     "traceback": [
      "\u001b[1;31m---------------------------------------------------------------------------\u001b[0m",
      "\u001b[1;31mPermissionError\u001b[0m                           Traceback (most recent call last)",
      "Cell \u001b[1;32mIn[21], line 5\u001b[0m\n\u001b[0;32m      2\u001b[0m down\u001b[38;5;241m.\u001b[39mdownxlsx(url_chrome, \u001b[38;5;124m'\u001b[39m\u001b[38;5;124m..\u001b[39m\u001b[38;5;130;01m\\\\\u001b[39;00m\u001b[38;5;124mraw_data\u001b[39m\u001b[38;5;130;01m\\\\\u001b[39;00m\u001b[38;5;124mwebdriver.zip\u001b[39m\u001b[38;5;124m'\u001b[39m)\n\u001b[0;32m      4\u001b[0m \u001b[38;5;28;01mwith\u001b[39;00m zipfile\u001b[38;5;241m.\u001b[39mZipFile(\u001b[38;5;124m\"\u001b[39m\u001b[38;5;124m..\u001b[39m\u001b[38;5;130;01m\\\\\u001b[39;00m\u001b[38;5;124mraw_data\u001b[39m\u001b[38;5;130;01m\\\\\u001b[39;00m\u001b[38;5;124mwebdriver.zip\u001b[39m\u001b[38;5;124m\"\u001b[39m, \u001b[38;5;124m'\u001b[39m\u001b[38;5;124mr\u001b[39m\u001b[38;5;124m'\u001b[39m) \u001b[38;5;28;01mas\u001b[39;00m webdriver:\n\u001b[1;32m----> 5\u001b[0m     \u001b[43mwebdriver\u001b[49m\u001b[38;5;241;43m.\u001b[39;49m\u001b[43mextractall\u001b[49m\u001b[43m(\u001b[49m\u001b[38;5;124;43m\"\u001b[39;49m\u001b[38;5;124;43mwebdriver_chrome\u001b[39;49m\u001b[38;5;124;43m\"\u001b[39;49m\u001b[43m)\u001b[49m\n",
      "File \u001b[1;32mc:\\Users\\Tamara\\anaconda3\\envs\\ISAF\\lib\\zipfile.py:1647\u001b[0m, in \u001b[0;36mZipFile.extractall\u001b[1;34m(self, path, members, pwd)\u001b[0m\n\u001b[0;32m   1644\u001b[0m     path \u001b[38;5;241m=\u001b[39m os\u001b[38;5;241m.\u001b[39mfspath(path)\n\u001b[0;32m   1646\u001b[0m \u001b[38;5;28;01mfor\u001b[39;00m zipinfo \u001b[38;5;129;01min\u001b[39;00m members:\n\u001b[1;32m-> 1647\u001b[0m     \u001b[38;5;28;43mself\u001b[39;49m\u001b[38;5;241;43m.\u001b[39;49m\u001b[43m_extract_member\u001b[49m\u001b[43m(\u001b[49m\u001b[43mzipinfo\u001b[49m\u001b[43m,\u001b[49m\u001b[43m \u001b[49m\u001b[43mpath\u001b[49m\u001b[43m,\u001b[49m\u001b[43m \u001b[49m\u001b[43mpwd\u001b[49m\u001b[43m)\u001b[49m\n",
      "File \u001b[1;32mc:\\Users\\Tamara\\anaconda3\\envs\\ISAF\\lib\\zipfile.py:1701\u001b[0m, in \u001b[0;36mZipFile._extract_member\u001b[1;34m(self, member, targetpath, pwd)\u001b[0m\n\u001b[0;32m   1697\u001b[0m         os\u001b[38;5;241m.\u001b[39mmkdir(targetpath)\n\u001b[0;32m   1698\u001b[0m     \u001b[38;5;28;01mreturn\u001b[39;00m targetpath\n\u001b[0;32m   1700\u001b[0m \u001b[38;5;28;01mwith\u001b[39;00m \u001b[38;5;28mself\u001b[39m\u001b[38;5;241m.\u001b[39mopen(member, pwd\u001b[38;5;241m=\u001b[39mpwd) \u001b[38;5;28;01mas\u001b[39;00m source, \\\n\u001b[1;32m-> 1701\u001b[0m      \u001b[38;5;28;43mopen\u001b[39;49m\u001b[43m(\u001b[49m\u001b[43mtargetpath\u001b[49m\u001b[43m,\u001b[49m\u001b[43m \u001b[49m\u001b[38;5;124;43m\"\u001b[39;49m\u001b[38;5;124;43mwb\u001b[39;49m\u001b[38;5;124;43m\"\u001b[39;49m\u001b[43m)\u001b[49m \u001b[38;5;28;01mas\u001b[39;00m target:\n\u001b[0;32m   1702\u001b[0m     shutil\u001b[38;5;241m.\u001b[39mcopyfileobj(source, target)\n\u001b[0;32m   1704\u001b[0m \u001b[38;5;28;01mreturn\u001b[39;00m targetpath\n",
      "\u001b[1;31mPermissionError\u001b[0m: [Errno 13] Permission denied: 'webdriver_chrome\\\\chromedriver-win64\\\\chromedriver.exe'"
     ]
    }
   ],
   "source": [
    "url_chrome = \"\thttps://edgedl.me.gvt1.com/edgedl/chrome/chrome-for-testing/120.0.6099.109/win64/chromedriver-win64.zip\"\n",
    "down.downxlsx(url_chrome, '..\\\\raw_data\\\\webdriver.zip')\n",
    "\n",
    "with zipfile.ZipFile(\"..\\\\raw_data\\\\webdriver.zip\", 'r') as webdriver:\n",
    "    webdriver.extractall(\"webdriver_chrome\")"
   ]
  },
  {
   "cell_type": "code",
   "execution_count": 22,
   "metadata": {},
   "outputs": [
    {
     "ename": "AttributeError",
     "evalue": "'Session' object has no attribute 'content'",
     "output_type": "error",
     "traceback": [
      "\u001b[1;31m---------------------------------------------------------------------------\u001b[0m",
      "\u001b[1;31mAttributeError\u001b[0m                            Traceback (most recent call last)",
      "Cell \u001b[1;32mIn[22], line 34\u001b[0m\n\u001b[0;32m     32\u001b[0m time\u001b[38;5;241m.\u001b[39msleep(\u001b[38;5;241m1\u001b[39m)\n\u001b[0;32m     33\u001b[0m descriptores\u001b[38;5;241m.\u001b[39mget(\u001b[38;5;124m'\u001b[39m\u001b[38;5;124mhttps://www.inegi.org.mx/programas/enadid/2018/#microdatos\u001b[39m\u001b[38;5;124m'\u001b[39m)\n\u001b[1;32m---> 34\u001b[0m \u001b[38;5;28mprint\u001b[39m(\u001b[43mdescriptores\u001b[49m\u001b[38;5;241;43m.\u001b[39;49m\u001b[43mcontent\u001b[49m)\n\u001b[0;32m     35\u001b[0m driver\u001b[38;5;241m.\u001b[39mquit()\n",
      "\u001b[1;31mAttributeError\u001b[0m: 'Session' object has no attribute 'content'"
     ]
    }
   ],
   "source": [
    "from selenium import webdriver\n",
    "from selenium.webdriver.chrome.options import Options\n",
    "import requests as r\n",
    "import time \n",
    "\n",
    "\n",
    "web_path = \"webdriver_chrome\\\\chromedriver-win64\\\\chromedriver.exe\"\n",
    "\n",
    "chrome_options = Options()\n",
    "chrome_options.add_experimental_option(\"prefs\", {\n",
    "        \"download.default_directory\": \"C:\\\\Users\\\\Tamara\\\\Documents\\\\Repositories\\\\SIM26\\\\tidy_data\\\\test\",\n",
    "        \"download.prompt_for_download\": False\n",
    "})\n",
    "\n",
    "driver = webdriver.Chrome(web_path, options=chrome_options)\n",
    "inegi = \"https://www.inegi.org.mx/programas/\"\n",
    "\n",
    "driver.get(inegi)\n",
    "time.sleep(1) # Let the user actually see something!\n",
    "categoria = driver.find_element_by_xpath(\"/html/body/div[2]/div/div[3]/ul/li[2]/div/a\")\n",
    "categoria.click()\n",
    "time.sleep(1)\n",
    "tipoencuesta = driver.find_element_by_xpath(\"/html/body/div[2]/div/div[3]/ul/li[2]/ul/li[1]/div/a\")\n",
    "tipoencuesta.click()\n",
    "time.sleep(1) \n",
    "encuesta = driver.find_element_by_xpath('/html/body/div[2]/div/div[3]/ul/li[2]/ul/li[1]/ul/li[1]/div/a')\n",
    "encuesta.click()\n",
    "time.sleep(1)\n",
    "microdatos = driver.find_element_by_xpath('/html/body/div[2]/main/div/div/div/div/pestanas-gen/div[1]/ul/li[3]/button')\n",
    "microdatos.click()\n",
    "time.sleep(1)\n",
    "\n",
    "driver.quit()"
   ]
  },
  {
   "cell_type": "code",
   "execution_count": null,
   "metadata": {},
   "outputs": [],
   "source": [
    "\n",
    "\n",
    "\n",
    "# dhenadid_2009 = driver.find_element_by_xpath(\"/html/body/div[2]/main/div/menu-gen/ul/li[2]/ul/li[1]/ul/li[1]/ul/li[3]/a\")\n"
   ]
  }
 ],
 "metadata": {
  "kernelspec": {
   "display_name": "ISAF",
   "language": "python",
   "name": "python3"
  },
  "language_info": {
   "codemirror_mode": {
    "name": "ipython",
    "version": 3
   },
   "file_extension": ".py",
   "mimetype": "text/x-python",
   "name": "python",
   "nbconvert_exporter": "python",
   "pygments_lexer": "ipython3",
   "version": "3.10.13"
  }
 },
 "nbformat": 4,
 "nbformat_minor": 2
}
