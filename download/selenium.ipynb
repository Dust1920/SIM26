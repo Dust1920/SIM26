{
 "cells": [
  {
   "cell_type": "code",
   "execution_count": 7,
   "metadata": {},
   "outputs": [
    {
     "ename": "FileNotFoundError",
     "evalue": "[Errno 2] No such file or directory: '..\\\\raw_data\\\\webdriver.zip'",
     "output_type": "error",
     "traceback": [
      "\u001b[1;31m---------------------------------------------------------------------------\u001b[0m",
      "\u001b[1;31mFileNotFoundError\u001b[0m                         Traceback (most recent call last)",
      "Cell \u001b[1;32mIn[7], line 8\u001b[0m\n\u001b[0;32m      5\u001b[0m \u001b[38;5;28;01mimport\u001b[39;00m \u001b[38;5;21;01maux_codes\u001b[39;00m \u001b[38;5;28;01mas\u001b[39;00m \u001b[38;5;21;01maux\u001b[39;00m\n\u001b[0;32m      6\u001b[0m url_edge \u001b[38;5;241m=\u001b[39m \u001b[38;5;124m\"\u001b[39m\u001b[38;5;124mhttps://msedgedriver.azureedge.net/120.0.2210.121/edgedriver_win64.zip\u001b[39m\u001b[38;5;124m\"\u001b[39m\n\u001b[1;32m----> 8\u001b[0m \u001b[43maux\u001b[49m\u001b[38;5;241;43m.\u001b[39;49m\u001b[43mdescarga\u001b[49m\u001b[43m(\u001b[49m\u001b[43murl_edge\u001b[49m\u001b[43m,\u001b[49m\u001b[43m \u001b[49m\u001b[38;5;124;43m'\u001b[39;49m\u001b[38;5;124;43m..\u001b[39;49m\u001b[38;5;130;43;01m\\\\\u001b[39;49;00m\u001b[38;5;124;43mraw_data\u001b[39;49m\u001b[38;5;124;43m'\u001b[39;49m\u001b[43m,\u001b[49m\u001b[38;5;124;43m'\u001b[39;49m\u001b[38;5;124;43mwebdriver.zip\u001b[39;49m\u001b[38;5;124;43m'\u001b[39;49m\u001b[43m)\u001b[49m\n\u001b[0;32m     10\u001b[0m \u001b[38;5;28;01mwith\u001b[39;00m zipfile\u001b[38;5;241m.\u001b[39mZipFile(\u001b[38;5;124m\"\u001b[39m\u001b[38;5;124m..\u001b[39m\u001b[38;5;130;01m\\\\\u001b[39;00m\u001b[38;5;124mraw_data\u001b[39m\u001b[38;5;130;01m\\\\\u001b[39;00m\u001b[38;5;124mwebdriver.zip\u001b[39m\u001b[38;5;124m\"\u001b[39m, \u001b[38;5;124m'\u001b[39m\u001b[38;5;124mr\u001b[39m\u001b[38;5;124m'\u001b[39m) \u001b[38;5;28;01mas\u001b[39;00m webdriver:\n\u001b[0;32m     11\u001b[0m     webdriver\u001b[38;5;241m.\u001b[39mextractall(\u001b[38;5;124m\"\u001b[39m\u001b[38;5;124mwebdriver\u001b[39m\u001b[38;5;124m\"\u001b[39m)\n",
      "File \u001b[1;32mc:\\Users\\Tamara\\Documents\\Repositories\\SIM26s\\download\\..\\aux_codes.py:20\u001b[0m, in \u001b[0;36mdescarga\u001b[1;34m(url, save_path, filename)\u001b[0m\n\u001b[0;32m     18\u001b[0m \u001b[38;5;28;01mdef\u001b[39;00m \u001b[38;5;21mdescarga\u001b[39m(url, save_path, filename):\n\u001b[0;32m     19\u001b[0m     html \u001b[38;5;241m=\u001b[39m r\u001b[38;5;241m.\u001b[39mget(url)\n\u001b[1;32m---> 20\u001b[0m     \u001b[38;5;28;01mwith\u001b[39;00m \u001b[38;5;28;43mopen\u001b[39;49m\u001b[43m(\u001b[49m\u001b[43msave_path\u001b[49m\u001b[43m \u001b[49m\u001b[38;5;241;43m+\u001b[39;49m\u001b[43m \u001b[49m\u001b[38;5;124;43m'\u001b[39;49m\u001b[38;5;130;43;01m\\\\\u001b[39;49;00m\u001b[38;5;124;43m'\u001b[39;49m\u001b[43m \u001b[49m\u001b[38;5;241;43m+\u001b[39;49m\u001b[43m \u001b[49m\u001b[43mfilename\u001b[49m\u001b[43m)\u001b[49m \u001b[38;5;28;01mas\u001b[39;00m download:\n\u001b[0;32m     21\u001b[0m         download\u001b[38;5;241m.\u001b[39mwrite(html\u001b[38;5;241m.\u001b[39mcontent)\n",
      "\u001b[1;31mFileNotFoundError\u001b[0m: [Errno 2] No such file or directory: '..\\\\raw_data\\\\webdriver.zip'"
     ]
    }
   ],
   "source": [
    "import sys\n",
    "sys.path.insert(1,'..')\n",
    "\n",
    "import zipfile\n",
    "import aux_codes as aux\n",
    "url_edge = \"https://msedgedriver.azureedge.net/120.0.2210.121/edgedriver_win64.zip\"\n",
    "\n",
    "aux.descarga(url_edge, '..\\\\raw_data','webdriver.zip')\n",
    "\n",
    "with zipfile.ZipFile(\"..\\\\raw_data\\\\webdriver.zip\", 'r') as webdriver:\n",
    "    webdriver.extractall(\"webdriver\")"
   ]
  },
  {
   "cell_type": "code",
   "execution_count": 10,
   "metadata": {},
   "outputs": [
    {
     "ename": "FileNotFoundError",
     "evalue": "[Errno 2] No such file or directory: '..\\\\raw_data\\\\webdriver.zip'",
     "output_type": "error",
     "traceback": [
      "\u001b[1;31m---------------------------------------------------------------------------\u001b[0m",
      "\u001b[1;31mFileNotFoundError\u001b[0m                         Traceback (most recent call last)",
      "Cell \u001b[1;32mIn[10], line 2\u001b[0m\n\u001b[0;32m      1\u001b[0m url_chrome \u001b[38;5;241m=\u001b[39m \u001b[38;5;124m\"\u001b[39m\u001b[38;5;124mhttps://edgedl.me.gvt1.com/edgedl/chrome/chrome-for-testing/120.0.6099.109/win64/chromedriver-win64.zip\u001b[39m\u001b[38;5;124m\"\u001b[39m\n\u001b[1;32m----> 2\u001b[0m \u001b[43maux\u001b[49m\u001b[38;5;241;43m.\u001b[39;49m\u001b[43mdescarga\u001b[49m\u001b[43m(\u001b[49m\u001b[43murl_chrome\u001b[49m\u001b[43m,\u001b[49m\u001b[43m \u001b[49m\u001b[38;5;124;43m'\u001b[39;49m\u001b[38;5;124;43m..\u001b[39;49m\u001b[38;5;130;43;01m\\\\\u001b[39;49;00m\u001b[38;5;124;43mraw_data\u001b[39;49m\u001b[38;5;124;43m'\u001b[39;49m\u001b[43m,\u001b[49m\u001b[38;5;124;43m'\u001b[39;49m\u001b[38;5;124;43mwebdriver.zip\u001b[39;49m\u001b[38;5;124;43m'\u001b[39;49m\u001b[43m)\u001b[49m\n\u001b[0;32m      4\u001b[0m \u001b[38;5;28;01mwith\u001b[39;00m zipfile\u001b[38;5;241m.\u001b[39mZipFile(\u001b[38;5;124m\"\u001b[39m\u001b[38;5;124m..\u001b[39m\u001b[38;5;130;01m\\\\\u001b[39;00m\u001b[38;5;124mraw_data\u001b[39m\u001b[38;5;130;01m\\\\\u001b[39;00m\u001b[38;5;124mwebdriver.zip\u001b[39m\u001b[38;5;124m\"\u001b[39m, \u001b[38;5;124m'\u001b[39m\u001b[38;5;124mr\u001b[39m\u001b[38;5;124m'\u001b[39m) \u001b[38;5;28;01mas\u001b[39;00m webdriver:\n\u001b[0;32m      5\u001b[0m     webdriver\u001b[38;5;241m.\u001b[39mextractall(\u001b[38;5;124m\"\u001b[39m\u001b[38;5;124mwebdriver_chrome\u001b[39m\u001b[38;5;124m\"\u001b[39m)\n",
      "File \u001b[1;32mc:\\Users\\Tamara\\Documents\\Repositories\\SIM26s\\download\\..\\aux_codes.py:20\u001b[0m, in \u001b[0;36mdescarga\u001b[1;34m(url, save_path, filename)\u001b[0m\n\u001b[0;32m     18\u001b[0m \u001b[38;5;28;01mdef\u001b[39;00m \u001b[38;5;21mdescarga\u001b[39m(url, save_path, filename):\n\u001b[0;32m     19\u001b[0m     html \u001b[38;5;241m=\u001b[39m r\u001b[38;5;241m.\u001b[39mget(url)\n\u001b[1;32m---> 20\u001b[0m     \u001b[38;5;28;01mwith\u001b[39;00m \u001b[38;5;28;43mopen\u001b[39;49m\u001b[43m(\u001b[49m\u001b[43msave_path\u001b[49m\u001b[43m \u001b[49m\u001b[38;5;241;43m+\u001b[39;49m\u001b[43m \u001b[49m\u001b[38;5;124;43m'\u001b[39;49m\u001b[38;5;130;43;01m\\\\\u001b[39;49;00m\u001b[38;5;124;43m'\u001b[39;49m\u001b[43m \u001b[49m\u001b[38;5;241;43m+\u001b[39;49m\u001b[43m \u001b[49m\u001b[43mfilename\u001b[49m\u001b[43m)\u001b[49m \u001b[38;5;28;01mas\u001b[39;00m download:\n\u001b[0;32m     21\u001b[0m         download\u001b[38;5;241m.\u001b[39mwrite(html\u001b[38;5;241m.\u001b[39mcontent)\n",
      "\u001b[1;31mFileNotFoundError\u001b[0m: [Errno 2] No such file or directory: '..\\\\raw_data\\\\webdriver.zip'"
     ]
    }
   ],
   "source": [
    "url_chrome = \"https://edgedl.me.gvt1.com/edgedl/chrome/chrome-for-testing/120.0.6099.109/win64/chromedriver-win64.zip\"\n",
    "aux.descarga(url_chrome, '..\\\\raw_data','webdriver.zip')\n",
    "\n",
    "with zipfile.ZipFile(\"..\\\\raw_data\\\\webdriver.zip\", 'r') as webdriver:\n",
    "    webdriver.extractall(\"webdriver_chrome\")"
   ]
  },
  {
   "cell_type": "code",
   "execution_count": 8,
   "metadata": {},
   "outputs": [],
   "source": [
    "from selenium import webdriver\n",
    "from selenium.webdriver.chrome.options import Options\n",
    "from selenium.webdriver.common.by import By\n",
    "import requests as r\n",
    "import time \n",
    "web_path = \"chromedriver.exe\"\n",
    "chrome_options = Options()\n",
    "chrome_options.add_argument(\"start-maximized\")\n",
    "chrome_options.add_experimental_option(\"detach\", True)\n",
    "chrome_options.add_argument(\"--disable-web-security\")\n",
    "chrome_options.add_argument(\"--allow-running-insecure-content\")\n",
    "chrome_options.add_argument(\"--disable-extensions\")\n",
    "chrome_options.add_argument('--safebrowsing-disable-download-protection')\n",
    "chrome_options.add_argument(\"safebrowsing-disable-extension-blacklist\")\n",
    "chrome_options.add_argument(\"disable-infobars\")\n",
    "chrome_options.add_argument(\"test-type\")\n",
    "prefs = {'download.default_directory' : \"C:\\\\Users\\\\Tamara\\\\Documents\\\\Repositories\\\\SIM26s\\\\download\",\n",
    "         'download.prompt_for_download': False,\n",
    "         'download.directory_upgrade': True,\n",
    "         'download.extensions_to_open': 'xml',\n",
    "         'safebrowsing.enabled': True,\n",
    "         'profile.default_content_settings.popups': 0,\n",
    "         'profile.default_content_setting_values.automatic_downloads': 1\n",
    "         }\n",
    "\n",
    "chrome_options.add_experimental_option('prefs', prefs)\n",
    "\n",
    "\n",
    "\n",
    "\n",
    "\n",
    "\n",
    "driver = webdriver.Chrome(web_path, options=chrome_options)\n",
    "inegi = \"https://www.inegi.org.mx/programas/\"\n",
    "\n",
    "driver.get(inegi)\n",
    "time.sleep(1) # Let the user actually see something!\n",
    "categoria = driver.find_element_by_xpath(\"/html/body/div[2]/div/div[3]/ul/li[2]/div/a\")\n",
    "categoria.click()\n",
    "time.sleep(1)\n",
    "tipoencuesta = driver.find_element_by_xpath(\"/html/body/div[2]/div/div[3]/ul/li[2]/ul/li[1]/div/a\")\n",
    "tipoencuesta.click()\n",
    "time.sleep(1) \n",
    "encuesta = driver.find_element_by_xpath('/html/body/div[2]/div/div[3]/ul/li[2]/ul/li[1]/ul/li[1]/div/a')\n",
    "encuesta.click()\n",
    "time.sleep(1)\n",
    "microdatos = driver.find_element_by_xpath('/html/body/div[2]/main/div/div/div/div/pestanas-gen/div[1]/ul/li[3]/button')\n",
    "microdatos.click()\n",
    "time.sleep(1)"
   ]
  },
  {
   "cell_type": "code",
   "execution_count": 14,
   "metadata": {},
   "outputs": [
    {
     "data": {
      "text/plain": [
       "[[<selenium.webdriver.remote.webelement.WebElement (session=\"893032ce0a1dfd85db1802383cda4997\", element=\"5A64D43A4F2DE257D56FC2EF149A1A80_element_375\")>,\n",
       "  <selenium.webdriver.remote.webelement.WebElement (session=\"893032ce0a1dfd85db1802383cda4997\", element=\"5A64D43A4F2DE257D56FC2EF149A1A80_element_376\")>,\n",
       "  <selenium.webdriver.remote.webelement.WebElement (session=\"893032ce0a1dfd85db1802383cda4997\", element=\"5A64D43A4F2DE257D56FC2EF149A1A80_element_377\")>,\n",
       "  <selenium.webdriver.remote.webelement.WebElement (session=\"893032ce0a1dfd85db1802383cda4997\", element=\"5A64D43A4F2DE257D56FC2EF149A1A80_element_378\")>,\n",
       "  <selenium.webdriver.remote.webelement.WebElement (session=\"893032ce0a1dfd85db1802383cda4997\", element=\"5A64D43A4F2DE257D56FC2EF149A1A80_element_379\")>,\n",
       "  <selenium.webdriver.remote.webelement.WebElement (session=\"893032ce0a1dfd85db1802383cda4997\", element=\"5A64D43A4F2DE257D56FC2EF149A1A80_element_380\")>,\n",
       "  <selenium.webdriver.remote.webelement.WebElement (session=\"893032ce0a1dfd85db1802383cda4997\", element=\"5A64D43A4F2DE257D56FC2EF149A1A80_element_381\")>,\n",
       "  <selenium.webdriver.remote.webelement.WebElement (session=\"893032ce0a1dfd85db1802383cda4997\", element=\"5A64D43A4F2DE257D56FC2EF149A1A80_element_382\")>,\n",
       "  <selenium.webdriver.remote.webelement.WebElement (session=\"893032ce0a1dfd85db1802383cda4997\", element=\"5A64D43A4F2DE257D56FC2EF149A1A80_element_383\")>]]"
      ]
     },
     "execution_count": 14,
     "metadata": {},
     "output_type": "execute_result"
    }
   ],
   "source": [
    "data = driver.find_element(By.TAG_NAME, 'tbody')\n",
    "list_types = [data.find_elements(By.TAG_NAME,'tr')]\n",
    "\n",
    "# dhenadid_2009 = driver.find_element_by_xpath(\"/html/body/div[2]/main/div/menu-gen/ul/li[2]/ul/li[1]/ul/li[1]/ul/li[3]/a\")\n",
    "list_types"
   ]
  }
 ],
 "metadata": {
  "kernelspec": {
   "display_name": "ISAF",
   "language": "python",
   "name": "python3"
  },
  "language_info": {
   "codemirror_mode": {
    "name": "ipython",
    "version": 3
   },
   "file_extension": ".py",
   "mimetype": "text/x-python",
   "name": "python",
   "nbconvert_exporter": "python",
   "pygments_lexer": "ipython3",
   "version": "3.10.13"
  }
 },
 "nbformat": 4,
 "nbformat_minor": 2
}
