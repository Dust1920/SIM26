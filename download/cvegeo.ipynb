{
 "cells": [
  {
   "cell_type": "markdown",
   "metadata": {},
   "source": [
    "# Visualizando con Mapas (CVEGEO)\n",
    "\n",
    "Una parte interesante dentro de la visualización de datos, es el uso de mapas para la visualización de datos geoestadisticos. Nosotros usaremos `geopandas`, una variante de pandas para datos georeferenciados.\n",
    "\n",
    "Aqui, nos centraremos en la descarga del archivo principal, los .shp. Los que geopandas leera y podrá construir los mapas. Para esto haremos uso de la librería de `requests`."
   ]
  },
  {
   "cell_type": "code",
   "execution_count": 9,
   "metadata": {},
   "outputs": [
    {
     "ename": "AttributeError",
     "evalue": "module 'aux_codes' has no attribute 'medium_folder'",
     "output_type": "error",
     "traceback": [
      "\u001b[1;31m---------------------------------------------------------------------------\u001b[0m",
      "\u001b[1;31mAttributeError\u001b[0m                            Traceback (most recent call last)",
      "Cell \u001b[1;32mIn[9], line 10\u001b[0m\n\u001b[0;32m      8\u001b[0m url2 \u001b[38;5;241m=\u001b[39m \u001b[38;5;124m\"\u001b[39m\u001b[38;5;124m/contenidos/espanol/bvinegi/productos/geografia/marcogeo/794551067314_s.zip\u001b[39m\u001b[38;5;124m\"\u001b[39m\n\u001b[0;32m      9\u001b[0m Mexico \u001b[38;5;241m=\u001b[39m url1 \u001b[38;5;241m+\u001b[39m url2\n\u001b[1;32m---> 10\u001b[0m aux\u001b[38;5;241m.\u001b[39mdescarga(Mexico, os\u001b[38;5;241m.\u001b[39mpath\u001b[38;5;241m.\u001b[39mabspath(\u001b[43maux\u001b[49m\u001b[38;5;241;43m.\u001b[39;49m\u001b[43mmedium_folder\u001b[49m), \u001b[38;5;124m'\u001b[39m\u001b[38;5;124mMexico.zip\u001b[39m\u001b[38;5;124m'\u001b[39m)\n",
      "\u001b[1;31mAttributeError\u001b[0m: module 'aux_codes' has no attribute 'medium_folder'"
     ]
    }
   ],
   "source": [
    "import requests as r\n",
    "import os \n",
    "import sys\n",
    "sys.path.insert(1, '..')\n",
    "import aux_codes as aux\n",
    "\n",
    "url1 = \"https://www.inegi.org.mx/contenidos/productos/prod_serv\"\n",
    "url2 = \"/contenidos/espanol/bvinegi/productos/geografia/marcogeo/794551067314_s.zip\"\n",
    "Mexico = url1 + url2\n",
    "aux.descarga(Mexico, os.path.abspath(aux.medium_folder), 'Mexico.zip')\n",
    " "
   ]
  },
  {
   "cell_type": "markdown",
   "metadata": {},
   "source": [
    "Como adicional vamos a extraer los archivos. "
   ]
  },
  {
   "cell_type": "code",
   "execution_count": null,
   "metadata": {},
   "outputs": [],
   "source": [
    "import zipfile\n",
    "\n",
    "with zipfile.ZipFile(\"..\\\\raw_data\\\\Mexico.zip\", 'r') as data:\n",
    "    data.extractall(\"..\\\\medium_data\\\\mexico_data\")"
   ]
  }
 ],
 "metadata": {
  "kernelspec": {
   "display_name": "ISAF",
   "language": "python",
   "name": "python3"
  },
  "language_info": {
   "codemirror_mode": {
    "name": "ipython",
    "version": 3
   },
   "file_extension": ".py",
   "mimetype": "text/x-python",
   "name": "python",
   "nbconvert_exporter": "python",
   "pygments_lexer": "ipython3",
   "version": "3.10.13"
  }
 },
 "nbformat": 4,
 "nbformat_minor": 2
}
