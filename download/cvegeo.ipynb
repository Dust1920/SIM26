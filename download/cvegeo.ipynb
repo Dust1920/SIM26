{
 "cells": [
  {
   "cell_type": "markdown",
   "metadata": {},
   "source": [
    "# CVEGEO\n",
    "\n",
    "La Clave Geográfica (CVEGEO) es el identificador de cada región dentro del pais. En nuestro caso Sonora, está será útil para la visualización más adelante.\n",
    "\n",
    "Por el momento nos tocará descargar los archivos que necesitamos. De igual forma será de forma manual del enlace (2)"
   ]
  },
  {
   "cell_type": "code",
   "execution_count": 10,
   "metadata": {},
   "outputs": [
    {
     "data": {
      "text/plain": [
       "'..\\\\raw_data\\\\Hi'"
      ]
     },
     "execution_count": 10,
     "metadata": {},
     "output_type": "execute_result"
    }
   ],
   "source": [
    "import zipfile\n",
    "import os\n",
    "\n",
    "raw_path = \"..\\\\raw_data\"\n",
    "filename = \"Hi\"\n",
    "file_path = os.path.join(raw_data,filename)\n",
    "file_path"
   ]
  }
 ],
 "metadata": {
  "kernelspec": {
   "display_name": "ISAF",
   "language": "python",
   "name": "python3"
  },
  "language_info": {
   "codemirror_mode": {
    "name": "ipython",
    "version": 3
   },
   "file_extension": ".py",
   "mimetype": "text/x-python",
   "name": "python",
   "nbconvert_exporter": "python",
   "pygments_lexer": "ipython3",
   "version": "3.10.13"
  }
 },
 "nbformat": 4,
 "nbformat_minor": 2
}
