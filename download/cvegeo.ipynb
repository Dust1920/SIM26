{
 "cells": [
  {
   "cell_type": "markdown",
   "metadata": {},
   "source": [
    "# CVEGEO\n",
    "\n",
    "La Clave Geográfica (CVEGEO) es el identificador de cada región dentro del pais. En nuestro caso Sonora, está será útil para la visualización más adelante.\n",
    "\n",
    "Por el momento nos tocará descargar los archivos que necesitamos. De igual forma será de forma manual del enlace (2)"
   ]
  }
 ],
 "metadata": {
  "kernelspec": {
   "display_name": "ISAF",
   "language": "python",
   "name": "python3"
  },
  "language_info": {
   "name": "python",
   "version": "3.10.13"
  }
 },
 "nbformat": 4,
 "nbformat_minor": 2
}
