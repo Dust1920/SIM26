{
 "cells": [
  {
   "cell_type": "markdown",
   "metadata": {},
   "source": [
    "# Formateo de Datos (Tidy Data)\n",
    "Como mencionamos anteriormente. Nos aprovecharemos de la forma de la base de datos para darle un formato más adecuado para su análisis. La estructura constará de usar un múlti indice en la parte de las columnas y de renglonres los municipios. \n",
    "\n",
    "## Extracción de Datos crudos (Raw Data)"
   ]
  },
  {
   "cell_type": "code",
   "execution_count": 4,
   "metadata": {},
   "outputs": [],
   "source": [
    "import pandas as pd\n",
    "import numpy as np\n",
    "\n",
    "Sonora = pd.read_excel(\"..\\\\medium_data\\\\book_son.xlsx\", sheet_name=None)\n",
    "Municipios = list(Sonora.keys())"
   ]
  },
  {
   "cell_type": "code",
   "execution_count": 26,
   "metadata": {},
   "outputs": [],
   "source": [
    "def transform(mun: str):\n",
    "    df = Sonora[mun].copy()\n",
    "    df.drop(columns=[\"Unnamed: 0.1\",\"Unnamed: 0\"], inplace=True)\n",
    "    df.dropna(how = 'all', axis = 0, inplace=True)\n",
    "    df.reset_index(drop=True,inplace=True)\n",
    "\n",
    "    abs_index = []\n",
    "    for i in range(len(df)):\n",
    "        if df.iloc[i, 1] == 'Absoluto':\n",
    "            abs_index.append(i)\n",
    "    abs_index.append(len(df))\n",
    "    new_dfs = []\n",
    "    for a in range(len(abs_index) - 1):\n",
    "        u = df.iloc[abs_index[a]:abs_index[a + 1],:]\n",
    "        u = u.dropna(how = 'all', axis = 1) \n",
    "        new_dfs.append(u)\n",
    "    return new_dfs\n",
    "\n",
    "\n",
    "data_to_tidy ={}\n",
    "for mun in Municipios:\n",
    "    nl = []\n",
    "    y = transform(mun)\n",
    "    for df in y:\n",
    "        df.columns = df.iloc[0,:]\n",
    "        df = df.iloc[1:,:]\n",
    "        df.reset_index(drop=True, inplace=True)\n",
    "        nl.append(df)\n",
    "    data_to_tidy[mun] = nl\n"
   ]
  },
  {
   "cell_type": "markdown",
   "metadata": {},
   "source": [
    " # Preliminares"
   ]
  },
  {
   "cell_type": "code",
   "execution_count": 27,
   "metadata": {},
   "outputs": [],
   "source": [
    "import regex as re\n",
    "\n",
    "def footnote(data: pd.DataFrame):\n",
    "    extra_information = []\n",
    "    extra_codes = ['Nota','^\\d']\n",
    "    remove_codes = ['Fuente']\n",
    "    for i in list(data.index):\n",
    "        for code in extra_codes:\n",
    "            if re.findall(code, i):\n",
    "                extra_information.append(i)\n",
    "                data = data.drop(index = i)\n",
    "        for code in remove_codes:\n",
    "            if re.findall(code, i):\n",
    "                data = data.drop(index = i)\n",
    "    return data, extra_information\n",
    "\n",
    "descriptor = pd.read_excel(\"..\\\\raw_data\\\\descriptor.xlsx\")\n",
    "\n",
    "descriptor['Origen'] = descriptor['Origen'].ffill()\n",
    "descriptor.set_index(['Origen','Némonico'], drop=True, inplace=True)\n",
    "sim_cats = descriptor.index.get_level_values(0).unique()\n",
    "\n",
    "def filter_mi(cat):\n",
    "    return descriptor.loc[(sim_cats[cat],slice(None)),:]\n",
    "\n",
    "mun_0 = Municipios[0]"
   ]
  },
  {
   "cell_type": "markdown",
   "metadata": {},
   "source": [
    "# Composición Territorial"
   ]
  },
  {
   "cell_type": "code",
   "execution_count": 28,
   "metadata": {},
   "outputs": [
    {
     "data": {
      "text/html": [
       "<div>\n",
       "<style scoped>\n",
       "    .dataframe tbody tr th:only-of-type {\n",
       "        vertical-align: middle;\n",
       "    }\n",
       "\n",
       "    .dataframe tbody tr th {\n",
       "        vertical-align: top;\n",
       "    }\n",
       "\n",
       "    .dataframe thead th {\n",
       "        text-align: right;\n",
       "    }\n",
       "</style>\n",
       "<table border=\"1\" class=\"dataframe\">\n",
       "  <thead>\n",
       "    <tr style=\"text-align: right;\">\n",
       "      <th>2</th>\n",
       "      <th>Composición territorial</th>\n",
       "      <th>Absoluto</th>\n",
       "      <th>Porcentaje</th>\n",
       "    </tr>\n",
       "  </thead>\n",
       "  <tbody>\n",
       "    <tr>\n",
       "      <th>0</th>\n",
       "      <td>Localidades</td>\n",
       "      <td>25</td>\n",
       "      <td>-</td>\n",
       "    </tr>\n",
       "    <tr>\n",
       "      <th>1</th>\n",
       "      <td>Urbanas</td>\n",
       "      <td>1</td>\n",
       "      <td>4</td>\n",
       "    </tr>\n",
       "    <tr>\n",
       "      <th>2</th>\n",
       "      <td>Rurales</td>\n",
       "      <td>24</td>\n",
       "      <td>96</td>\n",
       "    </tr>\n",
       "    <tr>\n",
       "      <th>3</th>\n",
       "      <td>AGEB</td>\n",
       "      <td>14</td>\n",
       "      <td>-</td>\n",
       "    </tr>\n",
       "    <tr>\n",
       "      <th>4</th>\n",
       "      <td>Urbanas</td>\n",
       "      <td>11</td>\n",
       "      <td>78.6</td>\n",
       "    </tr>\n",
       "    <tr>\n",
       "      <th>5</th>\n",
       "      <td>Rurales</td>\n",
       "      <td>3</td>\n",
       "      <td>21.4</td>\n",
       "    </tr>\n",
       "    <tr>\n",
       "      <th>6</th>\n",
       "      <td>Manzanas</td>\n",
       "      <td>223</td>\n",
       "      <td>-</td>\n",
       "    </tr>\n",
       "    <tr>\n",
       "      <th>7</th>\n",
       "      <td>Urbanas</td>\n",
       "      <td>135</td>\n",
       "      <td>60.5</td>\n",
       "    </tr>\n",
       "    <tr>\n",
       "      <th>8</th>\n",
       "      <td>Rurales</td>\n",
       "      <td>88</td>\n",
       "      <td>39.5</td>\n",
       "    </tr>\n",
       "    <tr>\n",
       "      <th>9</th>\n",
       "      <td>Fuente: INEGI.</td>\n",
       "      <td>NaN</td>\n",
       "      <td>NaN</td>\n",
       "    </tr>\n",
       "  </tbody>\n",
       "</table>\n",
       "</div>"
      ],
      "text/plain": [
       "2 Composición territorial Absoluto Porcentaje\n",
       "0             Localidades       25          -\n",
       "1                 Urbanas        1          4\n",
       "2                 Rurales       24         96\n",
       "3                    AGEB       14          -\n",
       "4                 Urbanas       11       78.6\n",
       "5                 Rurales        3       21.4\n",
       "6                Manzanas      223          -\n",
       "7                 Urbanas      135       60.5\n",
       "8                 Rurales       88       39.5\n",
       "9          Fuente: INEGI.      NaN        NaN"
      ]
     },
     "execution_count": 28,
     "metadata": {},
     "output_type": "execute_result"
    }
   ],
   "source": [
    "test_to_tidy = data_to_tidy[mun_0]\n",
    "\n",
    "ct  =test_to_tidy[0]\n"
   ]
  }
 ],
 "metadata": {
  "kernelspec": {
   "display_name": "ISAF",
   "language": "python",
   "name": "python3"
  },
  "language_info": {
   "codemirror_mode": {
    "name": "ipython",
    "version": 3
   },
   "file_extension": ".py",
   "mimetype": "text/x-python",
   "name": "python",
   "nbconvert_exporter": "python",
   "pygments_lexer": "ipython3",
   "version": "3.10.13"
  }
 },
 "nbformat": 4,
 "nbformat_minor": 2
}
