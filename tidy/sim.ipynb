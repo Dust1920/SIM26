{
 "cells": [
  {
   "cell_type": "markdown",
   "metadata": {},
   "source": [
    "# Formateo de Datos\n",
    "Como mencionamos anteriormente. Nos aprovecharemos de la forma de la base de datos para darle un formato más adecuado para su análisis. La estructura constará de usar un múlti indice en la parte de las columnas y de renglonres los municipios. \n",
    "\n",
    "## Extracción de Datos crudos."
   ]
  },
  {
   "cell_type": "code",
   "execution_count": 15,
   "metadata": {},
   "outputs": [],
   "source": [
    "import pandas as pd\n",
    "import numpy as np\n",
    "\n",
    "# Lista de Municipios.\n",
    "Sonora = pd.read_excel('..\\\\medium_data\\\\book_son.xlsx',sheet_name=None)\n",
    "Municipios = list(Sonora.keys())\n",
    "\n",
    "# Datos a Ordenar.\n",
    "import indicators_tables\n",
    "sonora = {municipio: indicators_tables.indicators_tables(Sonora, municipio) for municipio in Municipios}"
   ]
  },
  {
   "cell_type": "markdown",
   "metadata": {},
   "source": [
    "## Construccion de las Tablas\n",
    "\n",
    "### Composición Territorial. (1)"
   ]
  },
  {
   "cell_type": "code",
   "execution_count": 16,
   "metadata": {},
   "outputs": [
    {
     "data": {
      "text/html": [
       "<div>\n",
       "<style scoped>\n",
       "    .dataframe tbody tr th:only-of-type {\n",
       "        vertical-align: middle;\n",
       "    }\n",
       "\n",
       "    .dataframe tbody tr th {\n",
       "        vertical-align: top;\n",
       "    }\n",
       "\n",
       "    .dataframe thead th {\n",
       "        text-align: right;\n",
       "    }\n",
       "</style>\n",
       "<table border=\"1\" class=\"dataframe\">\n",
       "  <thead>\n",
       "    <tr style=\"text-align: right;\">\n",
       "      <th>Composición territorial</th>\n",
       "      <th>Absoluto</th>\n",
       "      <th>Porcentaje</th>\n",
       "    </tr>\n",
       "    <tr>\n",
       "      <th>Unnamed: 1</th>\n",
       "      <th></th>\n",
       "      <th></th>\n",
       "    </tr>\n",
       "  </thead>\n",
       "  <tbody>\n",
       "    <tr>\n",
       "      <th>Localidades</th>\n",
       "      <td>25.0</td>\n",
       "      <td>100.0</td>\n",
       "    </tr>\n",
       "    <tr>\n",
       "      <th>Urbanas</th>\n",
       "      <td>1.0</td>\n",
       "      <td>4.0</td>\n",
       "    </tr>\n",
       "    <tr>\n",
       "      <th>Rurales</th>\n",
       "      <td>24.0</td>\n",
       "      <td>96.0</td>\n",
       "    </tr>\n",
       "    <tr>\n",
       "      <th>AGEB</th>\n",
       "      <td>14.0</td>\n",
       "      <td>100.0</td>\n",
       "    </tr>\n",
       "    <tr>\n",
       "      <th>Urbanas</th>\n",
       "      <td>11.0</td>\n",
       "      <td>78.6</td>\n",
       "    </tr>\n",
       "    <tr>\n",
       "      <th>Rurales</th>\n",
       "      <td>3.0</td>\n",
       "      <td>21.4</td>\n",
       "    </tr>\n",
       "    <tr>\n",
       "      <th>Manzanas</th>\n",
       "      <td>223.0</td>\n",
       "      <td>100.0</td>\n",
       "    </tr>\n",
       "    <tr>\n",
       "      <th>Urbanas</th>\n",
       "      <td>135.0</td>\n",
       "      <td>60.5</td>\n",
       "    </tr>\n",
       "    <tr>\n",
       "      <th>Rurales</th>\n",
       "      <td>88.0</td>\n",
       "      <td>39.5</td>\n",
       "    </tr>\n",
       "  </tbody>\n",
       "</table>\n",
       "</div>"
      ],
      "text/plain": [
       "Composición territorial  Absoluto  Porcentaje\n",
       "Unnamed: 1                                   \n",
       "Localidades                  25.0       100.0\n",
       "Urbanas                       1.0         4.0\n",
       "Rurales                      24.0        96.0\n",
       "AGEB                         14.0       100.0\n",
       "Urbanas                      11.0        78.6\n",
       "Rurales                       3.0        21.4\n",
       "Manzanas                    223.0       100.0\n",
       "Urbanas                     135.0        60.5\n",
       "Rurales                      88.0        39.5"
      ]
     },
     "execution_count": 16,
     "metadata": {},
     "output_type": "execute_result"
    }
   ],
   "source": [
    "mun = Municipios[0]\n",
    "df = sonora[mun][1].copy()\n",
    "df.set_index('Unnamed: 1',inplace=True)\n",
    "df = df.replace({'nan': pd.NA}).dropna(axis = 1, how  = 'all').drop(columns = 'NA')\n",
    "df.columns = df.iloc[0,:]\n",
    "df = df.drop(index = ['Composición territorial','Fuente: INEGI.']).replace({'-' : 100}).astype(float)\n",
    "df"
   ]
  },
  {
   "cell_type": "code",
   "execution_count": 33,
   "metadata": {},
   "outputs": [],
   "source": [
    "level_zero = ['Localidades', 'AGEB', 'Manzanas']\n",
    "level_one = ['Total','Urbanas','Rurales']\n",
    "\n",
    "cols = pd.MultiIndex.from_product([level_zero,level_one])\n",
    "compos_abs = pd.DataFrame(index = Municipios, columns=cols)\n",
    "compos_per = pd.DataFrame(index = Municipios, columns=cols)\n",
    "\n",
    "def fill_df(cols : pd.MultiIndex | list):\n",
    "    abs_df = pd.DataFrame(index = Municipios, columns=cols)\n",
    "    per_df = pd.DataFrame(index = Municipios, columns=cols)\n",
    "\n",
    "    for mun in Municipios:\n",
    "        data = sonora[mun][1].copy()\n",
    "        data.set_index('Unnamed: 1',inplace=True)\n",
    "        data = data.replace({'nan': pd.NA}).dropna(axis = 1, how  = 'all').drop(columns = 'NA')\n",
    "        data.columns = df.iloc[0,:]\n",
    "        data = data.drop(index = ['Composición territorial','Fuente: INEGI.']).replace({'-' : 100}).astype(float)\n",
    "        abs_df.loc[mun,:] = list(data['Absoluto'])\n",
    "        per_df.loc[mun,:] = list(data['Porcentaje'])\n",
    "    return per_df, abs_df\n"
   ]
  },
  {
   "cell_type": "code",
   "execution_count": 34,
   "metadata": {},
   "outputs": [
    {
     "ename": "UnboundLocalError",
     "evalue": "local variable 'mun' referenced before assignment",
     "output_type": "error",
     "traceback": [
      "\u001b[1;31m---------------------------------------------------------------------------\u001b[0m",
      "\u001b[1;31mUnboundLocalError\u001b[0m                         Traceback (most recent call last)",
      "Cell \u001b[1;32mIn[34], line 1\u001b[0m\n\u001b[1;32m----> 1\u001b[0m a, b \u001b[38;5;241m=\u001b[39m \u001b[43mfill_df\u001b[49m\u001b[43m(\u001b[49m\u001b[43mcols\u001b[49m\u001b[43m)\u001b[49m\n",
      "Cell \u001b[1;32mIn[33], line 11\u001b[0m, in \u001b[0;36mfill_df\u001b[1;34m(cols)\u001b[0m\n\u001b[0;32m      9\u001b[0m abs_df \u001b[38;5;241m=\u001b[39m pd\u001b[38;5;241m.\u001b[39mDataFrame(index \u001b[38;5;241m=\u001b[39m Municipios, columns\u001b[38;5;241m=\u001b[39mcols)\n\u001b[0;32m     10\u001b[0m per_df \u001b[38;5;241m=\u001b[39m pd\u001b[38;5;241m.\u001b[39mDataFrame(index \u001b[38;5;241m=\u001b[39m Municipios, columns\u001b[38;5;241m=\u001b[39mcols)\n\u001b[1;32m---> 11\u001b[0m data \u001b[38;5;241m=\u001b[39m sonora[\u001b[43mmun\u001b[49m][\u001b[38;5;241m1\u001b[39m]\u001b[38;5;241m.\u001b[39mcopy()\n\u001b[0;32m     12\u001b[0m data\u001b[38;5;241m.\u001b[39mset_index(\u001b[38;5;124m'\u001b[39m\u001b[38;5;124mUnnamed: 1\u001b[39m\u001b[38;5;124m'\u001b[39m,inplace\u001b[38;5;241m=\u001b[39m\u001b[38;5;28;01mTrue\u001b[39;00m)\n\u001b[0;32m     13\u001b[0m data \u001b[38;5;241m=\u001b[39m data\u001b[38;5;241m.\u001b[39mreplace({\u001b[38;5;124m'\u001b[39m\u001b[38;5;124mnan\u001b[39m\u001b[38;5;124m'\u001b[39m: pd\u001b[38;5;241m.\u001b[39mNA})\u001b[38;5;241m.\u001b[39mdropna(axis \u001b[38;5;241m=\u001b[39m \u001b[38;5;241m1\u001b[39m, how  \u001b[38;5;241m=\u001b[39m \u001b[38;5;124m'\u001b[39m\u001b[38;5;124mall\u001b[39m\u001b[38;5;124m'\u001b[39m)\u001b[38;5;241m.\u001b[39mdrop(columns \u001b[38;5;241m=\u001b[39m \u001b[38;5;124m'\u001b[39m\u001b[38;5;124mNA\u001b[39m\u001b[38;5;124m'\u001b[39m)\n",
      "\u001b[1;31mUnboundLocalError\u001b[0m: local variable 'mun' referenced before assignment"
     ]
    }
   ],
   "source": [
    "a, b = fill_df(cols)"
   ]
  }
 ],
 "metadata": {
  "language_info": {
   "name": "python"
  }
 },
 "nbformat": 4,
 "nbformat_minor": 2
}
