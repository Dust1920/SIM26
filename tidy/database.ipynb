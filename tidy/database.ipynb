{
 "cells": [
  {
   "cell_type": "markdown",
   "metadata": {},
   "source": [
    "# Construcción de la Base de Datos. \n",
    "\n",
    "Ahora comenzaremos con la construcción de una base de datos que contenga las tablas mencionadas con anterioridad. Así que primero vamos a descargarlas de la carpeta format_data en results."
   ]
  },
  {
   "cell_type": "code",
   "execution_count": 330,
   "metadata": {},
   "outputs": [],
   "source": [
    "import os\n",
    "from download_data import tables_tidy_sort as tt\n",
    "import numpy as np\n",
    "import pandas as pd\n",
    "\n",
    "folder_path = \"..\\\\results\\\\format_data\"\n",
    "tables = os.listdir(folder_path)\n"
   ]
  },
  {
   "cell_type": "markdown",
   "metadata": {},
   "source": [
    "Ya los tenemos enlistdos. Ahora debemos recurrir a `tables_tidy.py` para recuperar los indices multiples. "
   ]
  },
  {
   "cell_type": "code",
   "execution_count": 331,
   "metadata": {},
   "outputs": [],
   "source": [
    "\"\"\"\n",
    "def collapse_multiIndex(multi: pd.MultiIndex | list):\n",
    "    if type(multi) == list:\n",
    "        return multi\n",
    "    n = multi.nlevels\n",
    "    mi = []\n",
    "    for j in range(n):\n",
    "        level = []\n",
    "        for i in range(len(multi)):\n",
    "            level.append(multi[i][j])\n",
    "        mi.append(level)\n",
    "    return mi\n",
    "\"\"\"\n",
    "\n",
    "mi_sonora = tt.mi"
   ]
  },
  {
   "cell_type": "markdown",
   "metadata": {},
   "source": [
    "Eso lo realizaremos mediante la función collapse_... . Ahora bien. Debemos ver cual es el indice más grande que tenemos"
   ]
  },
  {
   "cell_type": "code",
   "execution_count": 332,
   "metadata": {},
   "outputs": [
    {
     "data": {
      "text/plain": [
       "5"
      ]
     },
     "execution_count": 332,
     "metadata": {},
     "output_type": "execute_result"
    }
   ],
   "source": [
    "sonora_levels = [mi.nlevels if type(mi) == pd.MultiIndex else 1 for mi in mi_sonora]\n",
    "max_level = np.array(sonora_levels).max()\n",
    "max_level"
   ]
  },
  {
   "cell_type": "markdown",
   "metadata": {},
   "source": [
    "Entonces el nivel más grande es el 5. Entonces los que tengan  menos debemos de agregarles las que faltan."
   ]
  },
  {
   "cell_type": "code",
   "execution_count": 333,
   "metadata": {},
   "outputs": [],
   "source": [
    "def add_levels(multi: pd.MultiIndex | list, fill: str, new_max: int):\n",
    "    if type(multi) == list:\n",
    "        nl = 1\n",
    "    else:\n",
    "        nl = multi.nlevels\n",
    "    add_levels = new_max - nl\n",
    "    new_l = []\n",
    "    level_length = len(multi)\n",
    "    for i in range(add_levels):\n",
    "        if i == 0:\n",
    "            level = level_length * [fill]\n",
    "        else:\n",
    "            level = level_length * [\"\"]\n",
    "        new_l.append(level)\n",
    "    return new_l\n",
    "\n",
    "\n",
    "def tuples_to_list(multi: pd.MultiIndex):\n",
    "    m = multi.nlevels\n",
    "    n = len(multi)\n",
    "    mi_list = []\n",
    "    for i in range(m):\n",
    "        aux = []\n",
    "        for j in range(n):\n",
    "            aux.append(multi[j][i])\n",
    "        mi_list.append(aux)\n",
    "    return mi_list\n",
    "\n",
    "\n",
    "def normalize_df(multi, text, nl):\n",
    "    mi = tuples_to_list(multi)\n",
    "    new_mi = add_levels(multi, text, nl)\n",
    "    new_mi += mi\n",
    "    new_mi = pd.MultiIndex.from_arrays(new_mi)\n",
    "    return new_mi"
   ]
  },
  {
   "cell_type": "markdown",
   "metadata": {},
   "source": [
    "Como etiqueta agregaremos los años de extraccion de información, (que de forma conveniente estan en el nombre del archivo). Entonces vamos a extraerlos. "
   ]
  },
  {
   "cell_type": "code",
   "execution_count": 334,
   "metadata": {},
   "outputs": [],
   "source": [
    "import regex as re\n",
    "\n",
    "names = [os.path.splitext(os.path.basename(file))[0] for file in tables ]\n",
    "years = [re.findall('\\d{4}',file) for file in names]\n",
    "years = [a[0] if len(a) > 0 else 'Sin año' for a in years]"
   ]
  },
  {
   "cell_type": "code",
   "execution_count": 335,
   "metadata": {},
   "outputs": [],
   "source": [
    "dataframes = []\n",
    "for i in range(len(tables)):\n",
    "    u = pd.read_excel(folder_path + \"\\\\\" + tables[i], skiprows=sonora_levels[i], header=None)\n",
    "    dataframes.append(u)\n",
    "\n",
    "\n",
    "dfs = []\n",
    "for df in dataframes:\n",
    "    df = df.set_index(df.columns[0], drop=True)\n",
    "    ni = df.index.set_names('Municipios')\n",
    "    df.index = ni\n",
    "    dfs.append(df)\n",
    "\n",
    "Municipios = dfs[0].index"
   ]
  },
  {
   "cell_type": "markdown",
   "metadata": {},
   "source": []
  },
  {
   "cell_type": "code",
   "execution_count": 336,
   "metadata": {},
   "outputs": [],
   "source": [
    "new_dfs = []\n",
    "for i in range(len(tables)):\n",
    "    di = dfs[i]\n",
    "    mi = mi_sonora[i]\n",
    "    if type(mi) == pd.MultiIndex:\n",
    "        mi = normalize_df(mi, years[i], max_level + 1)\n",
    "    df = pd.DataFrame(index = Municipios, columns = mi)\n",
    "    # df.columns = list(range(len(dfs[i].columns)))\n",
    "    new_dfs.append(df)\n",
    "\n",
    "\n",
    "for k,data in enumerate(dfs):\n",
    "    for i in range(data.shape[0]):\n",
    "        for j in range(data.shape[1]):\n",
    "            new_dfs[k].iloc[i, j] = data.iloc[i, j]"
   ]
  },
  {
   "cell_type": "code",
   "execution_count": 337,
   "metadata": {},
   "outputs": [],
   "source": [
    "abs_dfs = []\n",
    "per_dfs = []\n",
    "other_dfs = []\n",
    "for k, df in enumerate(new_dfs):\n",
    "    test_cols = df.columns\n",
    "    col_abs = []\n",
    "    col_per = []\n",
    "    col_other = []\n",
    "    for col in test_cols:\n",
    "        if col[-1] == 'Absoluto':\n",
    "            col_abs.append(col)\n",
    "        else:\n",
    "            if col[-1] == 'Porcentaje':\n",
    "                col_per.append(col)\n",
    "            else:\n",
    "                col_other.append(col)\n",
    "\n",
    "    df_abs = df[col_abs]\n",
    "    df_per = df[col_per]\n",
    "    df_other = df[col_other]\n",
    "    try:\n",
    "        df_abs = df_abs.droplevel(5, axis = 1)\n",
    "        df_per = df_per.droplevel(5, axis = 1)\n",
    "    except:\n",
    "        continue\n",
    "    abs_dfs.append(df_abs)\n",
    "    per_dfs.append(df_per)\n",
    "    other_dfs.append(df_other)"
   ]
  },
  {
   "cell_type": "markdown",
   "metadata": {},
   "source": [
    "Finalmente, lo agregamos a las columnas."
   ]
  },
  {
   "cell_type": "code",
   "execution_count": 338,
   "metadata": {},
   "outputs": [],
   "source": [
    "for i in range(len(abs_dfs)):\n",
    "    if i == 0:\n",
    "        final_abs_df = abs_dfs[i]\n",
    "    else:\n",
    "        final_abs_df = pd.concat([final_abs_df, abs_dfs[i]], axis = 1)\n",
    "\n",
    "for i in range(len(per_dfs)):\n",
    "    if i == 0:\n",
    "        final_per_df = per_dfs[i]\n",
    "    else:\n",
    "        final_per_df = pd.concat([final_per_df, per_dfs[i]], axis = 1)\n",
    "\n",
    "absf_df = final_abs_df.iloc[1:]\n",
    "perf_df = final_per_df.iloc[1:]"
   ]
  },
  {
   "cell_type": "code",
   "execution_count": 339,
   "metadata": {},
   "outputs": [
    {
     "data": {
      "text/html": [
       "<div>\n",
       "<style scoped>\n",
       "    .dataframe tbody tr th:only-of-type {\n",
       "        vertical-align: middle;\n",
       "    }\n",
       "\n",
       "    .dataframe tbody tr th {\n",
       "        vertical-align: top;\n",
       "    }\n",
       "\n",
       "    .dataframe thead tr th {\n",
       "        text-align: left;\n",
       "    }\n",
       "\n",
       "    .dataframe thead tr:last-of-type th {\n",
       "        text-align: right;\n",
       "    }\n",
       "</style>\n",
       "<table border=\"1\" class=\"dataframe\">\n",
       "  <thead>\n",
       "    <tr>\n",
       "      <th></th>\n",
       "      <th colspan=\"9\" halign=\"left\">2022</th>\n",
       "      <th>Sin año</th>\n",
       "      <th>...</th>\n",
       "      <th colspan=\"7\" halign=\"left\">2022</th>\n",
       "      <th>2023</th>\n",
       "      <th colspan=\"2\" halign=\"left\">Sin año</th>\n",
       "    </tr>\n",
       "    <tr>\n",
       "      <th></th>\n",
       "      <th colspan=\"9\" halign=\"left\"></th>\n",
       "      <th></th>\n",
       "      <th>...</th>\n",
       "      <th colspan=\"7\" halign=\"left\"></th>\n",
       "      <th></th>\n",
       "      <th colspan=\"2\" halign=\"left\"></th>\n",
       "    </tr>\n",
       "    <tr>\n",
       "      <th></th>\n",
       "      <th colspan=\"9\" halign=\"left\"></th>\n",
       "      <th></th>\n",
       "      <th>...</th>\n",
       "      <th colspan=\"7\" halign=\"left\"></th>\n",
       "      <th></th>\n",
       "      <th colspan=\"2\" halign=\"left\"></th>\n",
       "    </tr>\n",
       "    <tr>\n",
       "      <th></th>\n",
       "      <th colspan=\"9\" halign=\"left\"></th>\n",
       "      <th>Localidades</th>\n",
       "      <th>...</th>\n",
       "      <th>Servicios de Salud (1)</th>\n",
       "      <th>Tasa de mortalidad</th>\n",
       "      <th>Tasa de mortalidad infantil</th>\n",
       "      <th>Unidades médicas</th>\n",
       "      <th>Unidades de consulta externa</th>\n",
       "      <th colspan=\"2\" halign=\"left\">Unidades de hospitalización</th>\n",
       "      <th></th>\n",
       "      <th>Superficie</th>\n",
       "      <th>Densidad de Poblacion</th>\n",
       "    </tr>\n",
       "    <tr>\n",
       "      <th></th>\n",
       "      <th>Total 1</th>\n",
       "      <th>Accidentes fatales</th>\n",
       "      <th>Accidentes no fatales</th>\n",
       "      <th>Accidentes con sólo daños materiales</th>\n",
       "      <th>Total</th>\n",
       "      <th>Automóviles</th>\n",
       "      <th>Camiones para pasajeros</th>\n",
       "      <th>Camiones y camionetas para carga</th>\n",
       "      <th>Motocicletas</th>\n",
       "      <th>Total</th>\n",
       "      <th>...</th>\n",
       "      <th>Poblacion Usuaria</th>\n",
       "      <th></th>\n",
       "      <th></th>\n",
       "      <th></th>\n",
       "      <th></th>\n",
       "      <th>General</th>\n",
       "      <th>Especializada</th>\n",
       "      <th>Seguridad (Septiembre 2023)</th>\n",
       "      <th>Km^2</th>\n",
       "      <th>Hab/Km^2</th>\n",
       "    </tr>\n",
       "    <tr>\n",
       "      <th>Municipios</th>\n",
       "      <th></th>\n",
       "      <th></th>\n",
       "      <th></th>\n",
       "      <th></th>\n",
       "      <th></th>\n",
       "      <th></th>\n",
       "      <th></th>\n",
       "      <th></th>\n",
       "      <th></th>\n",
       "      <th></th>\n",
       "      <th></th>\n",
       "      <th></th>\n",
       "      <th></th>\n",
       "      <th></th>\n",
       "      <th></th>\n",
       "      <th></th>\n",
       "      <th></th>\n",
       "      <th></th>\n",
       "      <th></th>\n",
       "      <th></th>\n",
       "      <th></th>\n",
       "    </tr>\n",
       "  </thead>\n",
       "  <tbody>\n",
       "    <tr>\n",
       "      <th>Aconchi</th>\n",
       "      <td>0.0</td>\n",
       "      <td>0.0</td>\n",
       "      <td>0.0</td>\n",
       "      <td>0.0</td>\n",
       "      <td>936.0</td>\n",
       "      <td>437.0</td>\n",
       "      <td>4.0</td>\n",
       "      <td>480.0</td>\n",
       "      <td>15.0</td>\n",
       "      <td>25.0</td>\n",
       "      <td>...</td>\n",
       "      <td>2518.0</td>\n",
       "      <td>-</td>\n",
       "      <td>-</td>\n",
       "      <td>2.0</td>\n",
       "      <td>2.0</td>\n",
       "      <td>0.0</td>\n",
       "      <td>0.0</td>\n",
       "      <td>ND</td>\n",
       "      <td>368.2</td>\n",
       "      <td>7.0</td>\n",
       "    </tr>\n",
       "    <tr>\n",
       "      <th>Agua Prieta</th>\n",
       "      <td>133.0</td>\n",
       "      <td>4.0</td>\n",
       "      <td>59.0</td>\n",
       "      <td>70.0</td>\n",
       "      <td>48087.0</td>\n",
       "      <td>31678.0</td>\n",
       "      <td>226.0</td>\n",
       "      <td>15774.0</td>\n",
       "      <td>409.0</td>\n",
       "      <td>261.0</td>\n",
       "      <td>...</td>\n",
       "      <td>88416.0</td>\n",
       "      <td>-</td>\n",
       "      <td>-</td>\n",
       "      <td>8.0</td>\n",
       "      <td>6.0</td>\n",
       "      <td>2.0</td>\n",
       "      <td>0.0</td>\n",
       "      <td>ND</td>\n",
       "      <td>3946.5</td>\n",
       "      <td>23.3</td>\n",
       "    </tr>\n",
       "    <tr>\n",
       "      <th>Alamos</th>\n",
       "      <td>67.0</td>\n",
       "      <td>1.0</td>\n",
       "      <td>21.0</td>\n",
       "      <td>45.0</td>\n",
       "      <td>4627.0</td>\n",
       "      <td>1918.0</td>\n",
       "      <td>46.0</td>\n",
       "      <td>2642.0</td>\n",
       "      <td>21.0</td>\n",
       "      <td>529.0</td>\n",
       "      <td>...</td>\n",
       "      <td>24524.0</td>\n",
       "      <td>-</td>\n",
       "      <td>-</td>\n",
       "      <td>21.0</td>\n",
       "      <td>20.0</td>\n",
       "      <td>1.0</td>\n",
       "      <td>0.0</td>\n",
       "      <td>ND</td>\n",
       "      <td>6422.8</td>\n",
       "      <td>3.9</td>\n",
       "    </tr>\n",
       "    <tr>\n",
       "      <th>Altar</th>\n",
       "      <td>116.0</td>\n",
       "      <td>0.0</td>\n",
       "      <td>0.0</td>\n",
       "      <td>116.0</td>\n",
       "      <td>2799.0</td>\n",
       "      <td>1541.0</td>\n",
       "      <td>9.0</td>\n",
       "      <td>1240.0</td>\n",
       "      <td>9.0</td>\n",
       "      <td>351.0</td>\n",
       "      <td>...</td>\n",
       "      <td>9213.0</td>\n",
       "      <td>-</td>\n",
       "      <td>-</td>\n",
       "      <td>3.0</td>\n",
       "      <td>3.0</td>\n",
       "      <td>0.0</td>\n",
       "      <td>0.0</td>\n",
       "      <td>ND</td>\n",
       "      <td>4457.7</td>\n",
       "      <td>2.1</td>\n",
       "    </tr>\n",
       "    <tr>\n",
       "      <th>Arivechi</th>\n",
       "      <td>4.0</td>\n",
       "      <td>0.0</td>\n",
       "      <td>0.0</td>\n",
       "      <td>4.0</td>\n",
       "      <td>321.0</td>\n",
       "      <td>99.0</td>\n",
       "      <td>1.0</td>\n",
       "      <td>219.0</td>\n",
       "      <td>2.0</td>\n",
       "      <td>97.0</td>\n",
       "      <td>...</td>\n",
       "      <td>1125.0</td>\n",
       "      <td>-</td>\n",
       "      <td>-</td>\n",
       "      <td>2.0</td>\n",
       "      <td>2.0</td>\n",
       "      <td>0.0</td>\n",
       "      <td>0.0</td>\n",
       "      <td>ND</td>\n",
       "      <td>726.3</td>\n",
       "      <td>1.6</td>\n",
       "    </tr>\n",
       "  </tbody>\n",
       "</table>\n",
       "<p>5 rows × 166 columns</p>\n",
       "</div>"
      ],
      "text/plain": [
       "               2022                                           \\\n",
       "                                                               \n",
       "                                                               \n",
       "                                                               \n",
       "            Total 1 Accidentes fatales Accidentes no fatales   \n",
       "Municipios                                                     \n",
       "Aconchi         0.0                0.0                   0.0   \n",
       "Agua Prieta   133.0                4.0                  59.0   \n",
       "Alamos         67.0                1.0                  21.0   \n",
       "Altar         116.0                0.0                   0.0   \n",
       "Arivechi        4.0                0.0                   0.0   \n",
       "\n",
       "                                                                       \\\n",
       "                                                                        \n",
       "                                                                        \n",
       "                                                                        \n",
       "            Accidentes con sólo daños materiales    Total Automóviles   \n",
       "Municipios                                                              \n",
       "Aconchi                                      0.0    936.0       437.0   \n",
       "Agua Prieta                                 70.0  48087.0     31678.0   \n",
       "Alamos                                      45.0   4627.0      1918.0   \n",
       "Altar                                      116.0   2799.0      1541.0   \n",
       "Arivechi                                     4.0    321.0        99.0   \n",
       "\n",
       "                                                                      \\\n",
       "                                                                       \n",
       "                                                                       \n",
       "                                                                       \n",
       "            Camiones para pasajeros Camiones y camionetas para carga   \n",
       "Municipios                                                             \n",
       "Aconchi                         4.0                            480.0   \n",
       "Agua Prieta                   226.0                          15774.0   \n",
       "Alamos                         46.0                           2642.0   \n",
       "Altar                           9.0                           1240.0   \n",
       "Arivechi                        1.0                            219.0   \n",
       "\n",
       "                             Sin año  ...                   2022  \\\n",
       "                                      ...                          \n",
       "                                      ...                          \n",
       "                         Localidades  ... Servicios de Salud (1)   \n",
       "            Motocicletas       Total  ...      Poblacion Usuaria   \n",
       "Municipios                            ...                          \n",
       "Aconchi             15.0        25.0  ...                 2518.0   \n",
       "Agua Prieta        409.0       261.0  ...                88416.0   \n",
       "Alamos              21.0       529.0  ...                24524.0   \n",
       "Altar                9.0       351.0  ...                 9213.0   \n",
       "Arivechi             2.0        97.0  ...                 1125.0   \n",
       "\n",
       "                                                                             \\\n",
       "                                                                              \n",
       "                                                                              \n",
       "            Tasa de mortalidad Tasa de mortalidad infantil Unidades médicas   \n",
       "                                                                              \n",
       "Municipios                                                                    \n",
       "Aconchi                      -                           -              2.0   \n",
       "Agua Prieta                  -                           -              8.0   \n",
       "Alamos                       -                           -             21.0   \n",
       "Altar                        -                           -              3.0   \n",
       "Arivechi                     -                           -              2.0   \n",
       "\n",
       "                                                                      \\\n",
       "                                                                       \n",
       "                                                                       \n",
       "            Unidades de consulta externa Unidades de hospitalización   \n",
       "                                                             General   \n",
       "Municipios                                                             \n",
       "Aconchi                              2.0                         0.0   \n",
       "Agua Prieta                          6.0                         2.0   \n",
       "Alamos                              20.0                         1.0   \n",
       "Altar                                3.0                         0.0   \n",
       "Arivechi                             2.0                         0.0   \n",
       "\n",
       "                                                 2023    Sin año  \\\n",
       "                                                                   \n",
       "                                                                   \n",
       "                                                      Superficie   \n",
       "            Especializada Seguridad (Septiembre 2023)       Km^2   \n",
       "Municipios                                                         \n",
       "Aconchi               0.0                          ND      368.2   \n",
       "Agua Prieta           0.0                          ND     3946.5   \n",
       "Alamos                0.0                          ND     6422.8   \n",
       "Altar                 0.0                          ND     4457.7   \n",
       "Arivechi              0.0                          ND      726.3   \n",
       "\n",
       "                                   \n",
       "                                   \n",
       "                                   \n",
       "            Densidad de Poblacion  \n",
       "                         Hab/Km^2  \n",
       "Municipios                         \n",
       "Aconchi                       7.0  \n",
       "Agua Prieta                  23.3  \n",
       "Alamos                        3.9  \n",
       "Altar                         2.1  \n",
       "Arivechi                      1.6  \n",
       "\n",
       "[5 rows x 166 columns]"
      ]
     },
     "execution_count": 339,
     "metadata": {},
     "output_type": "execute_result"
    }
   ],
   "source": [
    "absf_df.head()"
   ]
  },
  {
   "cell_type": "code",
   "execution_count": 340,
   "metadata": {},
   "outputs": [
    {
     "data": {
      "text/html": [
       "<div>\n",
       "<style scoped>\n",
       "    .dataframe tbody tr th:only-of-type {\n",
       "        vertical-align: middle;\n",
       "    }\n",
       "\n",
       "    .dataframe tbody tr th {\n",
       "        vertical-align: top;\n",
       "    }\n",
       "\n",
       "    .dataframe thead tr th {\n",
       "        text-align: left;\n",
       "    }\n",
       "\n",
       "    .dataframe thead tr:last-of-type th {\n",
       "        text-align: right;\n",
       "    }\n",
       "</style>\n",
       "<table border=\"1\" class=\"dataframe\">\n",
       "  <thead>\n",
       "    <tr>\n",
       "      <th></th>\n",
       "      <th colspan=\"7\" halign=\"left\">Sin año</th>\n",
       "    </tr>\n",
       "    <tr>\n",
       "      <th></th>\n",
       "      <th colspan=\"7\" halign=\"left\"></th>\n",
       "    </tr>\n",
       "    <tr>\n",
       "      <th></th>\n",
       "      <th colspan=\"7\" halign=\"left\"></th>\n",
       "    </tr>\n",
       "    <tr>\n",
       "      <th></th>\n",
       "      <th colspan=\"6\" halign=\"left\">Coordenadas</th>\n",
       "      <th>Colindancias</th>\n",
       "    </tr>\n",
       "    <tr>\n",
       "      <th></th>\n",
       "      <th colspan=\"2\" halign=\"left\">Latitud</th>\n",
       "      <th colspan=\"2\" halign=\"left\">Longitud</th>\n",
       "      <th colspan=\"2\" halign=\"left\">Altitud</th>\n",
       "      <th></th>\n",
       "    </tr>\n",
       "    <tr>\n",
       "      <th></th>\n",
       "      <th>Min (°)</th>\n",
       "      <th>Max (°)</th>\n",
       "      <th>Min (°)</th>\n",
       "      <th>Max (°)</th>\n",
       "      <th>Min (m)</th>\n",
       "      <th>Max (m)</th>\n",
       "      <th></th>\n",
       "    </tr>\n",
       "    <tr>\n",
       "      <th>Municipios</th>\n",
       "      <th></th>\n",
       "      <th></th>\n",
       "      <th></th>\n",
       "      <th></th>\n",
       "      <th></th>\n",
       "      <th></th>\n",
       "      <th></th>\n",
       "    </tr>\n",
       "  </thead>\n",
       "  <tbody>\n",
       "    <tr>\n",
       "      <th>Aconchi</th>\n",
       "      <td>29.683333</td>\n",
       "      <td>29.883333</td>\n",
       "      <td>110.0</td>\n",
       "      <td>110.433333</td>\n",
       "      <td>500.0</td>\n",
       "      <td>2200.0</td>\n",
       "      <td>Colinda al norte con los municipios de San Fel...</td>\n",
       "    </tr>\n",
       "    <tr>\n",
       "      <th>Agua Prieta</th>\n",
       "      <td>30.7</td>\n",
       "      <td>31.35</td>\n",
       "      <td>108.683333</td>\n",
       "      <td>109.75</td>\n",
       "      <td>800.0</td>\n",
       "      <td>2500.0</td>\n",
       "      <td>Colinda al norte con los Estados Unidos de Amé...</td>\n",
       "    </tr>\n",
       "    <tr>\n",
       "      <th>Alamos</th>\n",
       "      <td>26.383333</td>\n",
       "      <td>27.783333</td>\n",
       "      <td>108.416667</td>\n",
       "      <td>109.25</td>\n",
       "      <td>50.0</td>\n",
       "      <td>2000.0</td>\n",
       "      <td>Colinda al norte con el municipio de Quiriego ...</td>\n",
       "    </tr>\n",
       "    <tr>\n",
       "      <th>Altar</th>\n",
       "      <td>30.516667</td>\n",
       "      <td>31.666667</td>\n",
       "      <td>111.6</td>\n",
       "      <td>112.283333</td>\n",
       "      <td>200.0</td>\n",
       "      <td>1700.0</td>\n",
       "      <td>Colinda al norte con el municipio de Caborca y...</td>\n",
       "    </tr>\n",
       "    <tr>\n",
       "      <th>Arivechi</th>\n",
       "      <td>28.733333</td>\n",
       "      <td>28.983333</td>\n",
       "      <td>108.833333</td>\n",
       "      <td>109.266667</td>\n",
       "      <td>400.0</td>\n",
       "      <td>2200.0</td>\n",
       "      <td>Colinda al norte, este, sur y oeste con el mun...</td>\n",
       "    </tr>\n",
       "    <tr>\n",
       "      <th>...</th>\n",
       "      <td>...</td>\n",
       "      <td>...</td>\n",
       "      <td>...</td>\n",
       "      <td>...</td>\n",
       "      <td>...</td>\n",
       "      <td>...</td>\n",
       "      <td>...</td>\n",
       "    </tr>\n",
       "    <tr>\n",
       "      <th>Villa Pesqueira</th>\n",
       "      <td>28.783333</td>\n",
       "      <td>29.5</td>\n",
       "      <td>109.783333</td>\n",
       "      <td>110.133333</td>\n",
       "      <td>50.0</td>\n",
       "      <td>1700.0</td>\n",
       "      <td>Colinda al norte con los municipios de Baviáco...</td>\n",
       "    </tr>\n",
       "    <tr>\n",
       "      <th>Yécora</th>\n",
       "      <td>28.166667</td>\n",
       "      <td>28.65</td>\n",
       "      <td>108.466667</td>\n",
       "      <td>110.133333</td>\n",
       "      <td>300.0</td>\n",
       "      <td>2300.0</td>\n",
       "      <td>Colinda al norte con los municipios de Bacanor...</td>\n",
       "    </tr>\n",
       "    <tr>\n",
       "      <th>Gral. Plutarco Elías Calles</th>\n",
       "      <td>31.316667</td>\n",
       "      <td>32.083333</td>\n",
       "      <td>112.3</td>\n",
       "      <td>113.516667</td>\n",
       "      <td>100.0</td>\n",
       "      <td>1400.0</td>\n",
       "      <td>Colinda al norte con el municipio de Puerto Pe...</td>\n",
       "    </tr>\n",
       "    <tr>\n",
       "      <th>Benito Juárez</th>\n",
       "      <td>26.966667</td>\n",
       "      <td>27.233333</td>\n",
       "      <td>109.716667</td>\n",
       "      <td>109.983333</td>\n",
       "      <td>0.0</td>\n",
       "      <td>100.0</td>\n",
       "      <td>Colinda al norte con los municipios de Cajeme ...</td>\n",
       "    </tr>\n",
       "    <tr>\n",
       "      <th>San Ignacio Río Muerto</th>\n",
       "      <td>27.116667</td>\n",
       "      <td>27.533333</td>\n",
       "      <td>110.133333</td>\n",
       "      <td>110.6</td>\n",
       "      <td>0.0</td>\n",
       "      <td>100.0</td>\n",
       "      <td>Colinda al norte con los municipios de Guaymas...</td>\n",
       "    </tr>\n",
       "  </tbody>\n",
       "</table>\n",
       "<p>72 rows × 7 columns</p>\n",
       "</div>"
      ],
      "text/plain": [
       "                                Sin año                                     \\\n",
       "                                                                             \n",
       "                                                                             \n",
       "                            Coordenadas                                      \n",
       "                                Latitud               Longitud               \n",
       "                                Min (°)    Max (°)     Min (°)     Max (°)   \n",
       "Municipios                                                                   \n",
       "Aconchi                       29.683333  29.883333       110.0  110.433333   \n",
       "Agua Prieta                        30.7      31.35  108.683333      109.75   \n",
       "Alamos                        26.383333  27.783333  108.416667      109.25   \n",
       "Altar                         30.516667  31.666667       111.6  112.283333   \n",
       "Arivechi                      28.733333  28.983333  108.833333  109.266667   \n",
       "..                                  ...        ...         ...         ...   \n",
       "Villa Pesqueira               28.783333       29.5  109.783333  110.133333   \n",
       "Yécora                        28.166667      28.65  108.466667  110.133333   \n",
       "Gral. Plutarco Elías Calles   31.316667  32.083333       112.3  113.516667   \n",
       "Benito Juárez                 26.966667  27.233333  109.716667  109.983333   \n",
       "San Ignacio Río Muerto        27.116667  27.533333  110.133333       110.6   \n",
       "\n",
       "                                             \\\n",
       "                                              \n",
       "                                              \n",
       "                                              \n",
       "                            Altitud           \n",
       "                            Min (m) Max (m)   \n",
       "Municipios                                    \n",
       "Aconchi                       500.0  2200.0   \n",
       "Agua Prieta                   800.0  2500.0   \n",
       "Alamos                         50.0  2000.0   \n",
       "Altar                         200.0  1700.0   \n",
       "Arivechi                      400.0  2200.0   \n",
       "..                              ...     ...   \n",
       "Villa Pesqueira                50.0  1700.0   \n",
       "Yécora                        300.0  2300.0   \n",
       "Gral. Plutarco Elías Calles   100.0  1400.0   \n",
       "Benito Juárez                   0.0   100.0   \n",
       "San Ignacio Río Muerto          0.0   100.0   \n",
       "\n",
       "                                                                                \n",
       "                                                                                \n",
       "                                                                                \n",
       "                                                                  Colindancias  \n",
       "                                                                                \n",
       "                                                                                \n",
       "Municipios                                                                      \n",
       "Aconchi                      Colinda al norte con los municipios de San Fel...  \n",
       "Agua Prieta                  Colinda al norte con los Estados Unidos de Amé...  \n",
       "Alamos                       Colinda al norte con el municipio de Quiriego ...  \n",
       "Altar                        Colinda al norte con el municipio de Caborca y...  \n",
       "Arivechi                     Colinda al norte, este, sur y oeste con el mun...  \n",
       "..                                                                         ...  \n",
       "Villa Pesqueira              Colinda al norte con los municipios de Baviáco...  \n",
       "Yécora                       Colinda al norte con los municipios de Bacanor...  \n",
       "Gral. Plutarco Elías Calles  Colinda al norte con el municipio de Puerto Pe...  \n",
       "Benito Juárez                Colinda al norte con los municipios de Cajeme ...  \n",
       "San Ignacio Río Muerto       Colinda al norte con los municipios de Guaymas...  \n",
       "\n",
       "[72 rows x 7 columns]"
      ]
     },
     "execution_count": 340,
     "metadata": {},
     "output_type": "execute_result"
    }
   ],
   "source": [
    "other_df = df_other.iloc[1:]\n",
    "other_df"
   ]
  },
  {
   "cell_type": "markdown",
   "metadata": {},
   "source": [
    "## CVEGEO\n",
    "\n",
    "La clave geográfica (CVEGEO) es un número único asignado a cada region definida dentro del país. En nuestro caso trabajaremos con Sonora. "
   ]
  },
  {
   "cell_type": "code",
   "execution_count": 341,
   "metadata": {},
   "outputs": [
    {
     "name": "stderr",
     "output_type": "stream",
     "text": [
      "C:\\Users\\Tamara\\AppData\\Local\\Temp\\ipykernel_9368\\4103526707.py:3: SettingWithCopyWarning: \n",
      "A value is trying to be set on a copy of a slice from a DataFrame.\n",
      "Try using .loc[row_indexer,col_indexer] = value instead\n",
      "\n",
      "See the caveats in the documentation: https://pandas.pydata.org/pandas-docs/stable/user_guide/indexing.html#returning-a-view-versus-a-copy\n",
      "  absf_df.loc[:, 'CVEGEO'] = cvegeo['CVE'].unique().tolist()\n",
      "C:\\Users\\Tamara\\AppData\\Local\\Temp\\ipykernel_9368\\4103526707.py:4: SettingWithCopyWarning: \n",
      "A value is trying to be set on a copy of a slice from a DataFrame.\n",
      "Try using .loc[row_indexer,col_indexer] = value instead\n",
      "\n",
      "See the caveats in the documentation: https://pandas.pydata.org/pandas-docs/stable/user_guide/indexing.html#returning-a-view-versus-a-copy\n",
      "  perf_df.loc[:, 'CVEGEO'] = cvegeo['CVE'].unique().tolist()\n"
     ]
    }
   ],
   "source": [
    "cvegeo = pd.read_excel('..\\\\results\\\\cvegeo\\\\cvegeo.xlsx')\n",
    "\n",
    "absf_df.loc[:, 'CVEGEO'] = cvegeo['CVE'].unique().tolist()\n",
    "perf_df.loc[:, 'CVEGEO'] = cvegeo['CVE'].unique().tolist()\n",
    "\n",
    "\n"
   ]
  },
  {
   "cell_type": "markdown",
   "metadata": {},
   "source": [
    "Ahora, debemos colocarlo al comienzo."
   ]
  },
  {
   "cell_type": "code",
   "execution_count": 342,
   "metadata": {},
   "outputs": [],
   "source": [
    "# Obtener el nombre de la última letra en el MultiIndex\n",
    "last_letter = absf_df.columns.levels[0][-1]\n",
    "# Mover la última letra al comienzo del MultiIndex\n",
    "absf_df = absf_df[[last_letter] + [col for col in absf_df.columns.levels[0] if col != last_letter]]\n",
    "perf_df = perf_df[[last_letter] + [col for col in perf_df.columns.levels[0] if col != last_letter]]\n",
    "\n",
    "absf_df.to_excel('..\\\\results\\\\database\\\\absolute_database.xlsx')\n",
    "perf_df.to_excel('..\\\\results\\\\database\\\\percentage_database.xlsx')\n",
    "\n",
    "acols = list(absf_df.columns)\n",
    "pcols = list(perf_df.columns)\n",
    "\n",
    "\n",
    "acols.remove(('2020', '', '', '', 'Tenencia de la vivienda'))\n",
    "pcols.remove(('2020', '', '', '', 'Tenencia de la vivienda'))\n",
    "\n",
    "absf_df = absf_df.drop(columns=('2020', '', '', '', 'Tenencia de la vivienda'))\n",
    "perf_df = perf_df.drop(columns=('2020', '', '', '', 'Tenencia de la vivienda'))\n"
   ]
  },
  {
   "cell_type": "code",
   "execution_count": 343,
   "metadata": {},
   "outputs": [],
   "source": [
    "descriptor = pd.read_excel(\"..\\\\data\\\\descriptor.xlsx\")\n",
    "descriptor.set_index('Némonico',drop=True,inplace=True)\n",
    "new_cols = list(descriptor.index)\n",
    "pe = ['CVEGEO'] + new_cols[:-1]\n",
    "ab = ['CVEGEO'] + new_cols\n",
    "\n",
    "ch_ab_columns = {absf_df.columns[i] : ab[i] for i in range(len(ab))}\n",
    "ch_pe_columns = {perf_df.columns[i] : pe[i] for i in range(len(pe))}\n",
    "\n",
    "\n",
    "absf_df.columns = ab\n",
    "perf_df.columns = pe"
   ]
  },
  {
   "cell_type": "markdown",
   "metadata": {},
   "source": [
    "Una vez agregado el CVEGEO, que se usará más adelante. Vamos con las correcciones.\n",
    "\n",
    "# Correciones a la Base de Datos. \n",
    "\n",
    "La base de datos ya fue terminada. Sin embargo, esta presento fallos que debemos corregir. \n",
    "\n",
    "* Atender los comentarios en color violeta que están en la pestaña “Diccionario de variables”.\n",
    "* Remover caracteres no numéricos de campos con variables numéricas (ej. “ND”, “-“) desde la base original.\n",
    "* Generar una salida por municipio con estadísticas de resumen para las variables (N, max, min, prom, med, sd)\n",
    "* Generar matrices de correlación entre las variables del mismo año, apoyándote en la pauta del ejemplo de gráfica adjunta. Observé que el conjunto de variables relacionadas con “entorno urbano” y de “establecimientos” tienen baja correlación en ese nivel con variables sociodemográficas, estas las puedes omitir, yo te indico más o menos cuáles serían.\n",
    "* Para generar visualizaciones, utiliza los nemónicos cortos, me funcionó bien. Pues usar quizás una nomenclatura que sea más indicativa, yo usé por practicidad esta de “var…” pero es difícil identificar rápido cuál es la relación con cual.\n",
    "\n",
    "Por comodidad reharemos las tablas. Extrayendo los años y el tipo de dato.\n",
    "\n",
    "Mostraremos el proceso con la tabla de valores absolutos. Pero se aplicaria de igual forma con los porcentuales."
   ]
  },
  {
   "cell_type": "code",
   "execution_count": 344,
   "metadata": {},
   "outputs": [
    {
     "name": "stderr",
     "output_type": "stream",
     "text": [
      "C:\\Users\\Tamara\\AppData\\Local\\Temp\\ipykernel_9368\\1584852348.py:6: DeprecationWarning: In a future version, `df.iloc[:, i] = newvals` will attempt to set the values inplace instead of always setting a new array. To retain the old behavior, use either `df[df.columns[i]] = newvals` or, if columns are non-unique, `df.isetitem(i, newvals)`\n",
      "  df.iloc[:, j] = df.iloc[:,j].astype(float)\n"
     ]
    },
    {
     "data": {
      "text/plain": [
       "['TCP9000',\n",
       " 'TCP0010',\n",
       " 'TCP1020',\n",
       " 'DFT',\n",
       " 'TPE',\n",
       " 'TD',\n",
       " 'TMOR',\n",
       " 'TMORI',\n",
       " 'SEGSEP']"
      ]
     },
     "execution_count": 344,
     "metadata": {},
     "output_type": "execute_result"
    }
   ],
   "source": [
    "def check_float(df: pd.DataFrame):\n",
    "    n = len(df.columns)\n",
    "    mod_cols = []\n",
    "    for j in range(n):\n",
    "        try:\n",
    "            df.iloc[:, j] = df.iloc[:,j].astype(float)\n",
    "        except:\n",
    "            mod_cols.append(df.columns[j])\n",
    "    return mod_cols\n",
    "\n",
    "mod_abs = check_float(absf_df)\n",
    "mod_abs"
   ]
  },
  {
   "cell_type": "markdown",
   "metadata": {},
   "source": [
    "Con las funciones anteriores, podemos ver cuales columnas no se pueden transformar en flotantes. Ahora debemos corregirlas."
   ]
  },
  {
   "cell_type": "code",
   "execution_count": 345,
   "metadata": {},
   "outputs": [
    {
     "data": {
      "text/plain": [
       "['DFT', 'SEGSEP']"
      ]
     },
     "execution_count": 345,
     "metadata": {},
     "output_type": "execute_result"
    }
   ],
   "source": [
    "def correct_not_float(modify_cols: list, df: pd.DataFrame):\n",
    "    for col in modify_cols:\n",
    "        if (df.loc[:, col] == '-').sum() == 72:\n",
    "            df = df.drop(columns = col)\n",
    "    return df\n",
    "\n",
    "df = correct_not_float(mod_abs, absf_df)\n",
    "mod_df = check_float(df)\n",
    "mod_df"
   ]
  },
  {
   "cell_type": "markdown",
   "metadata": {},
   "source": [
    "Con la función anterior, borramos las que son totalmente '-', que no nos otorgan información. Quedando únicamente dos."
   ]
  },
  {
   "cell_type": "code",
   "execution_count": 346,
   "metadata": {},
   "outputs": [
    {
     "name": "stderr",
     "output_type": "stream",
     "text": [
      "C:\\Users\\Tamara\\AppData\\Local\\Temp\\ipykernel_9368\\1584852348.py:6: DeprecationWarning: In a future version, `df.iloc[:, i] = newvals` will attempt to set the values inplace instead of always setting a new array. To retain the old behavior, use either `df[df.columns[i]] = newvals` or, if columns are non-unique, `df.isetitem(i, newvals)`\n",
      "  df.iloc[:, j] = df.iloc[:,j].astype(float)\n"
     ]
    },
    {
     "data": {
      "text/plain": [
       "['SEGSEP']"
      ]
     },
     "execution_count": 346,
     "metadata": {},
     "output_type": "execute_result"
    }
   ],
   "source": [
    "df.loc[:, mod_df[0]] = [s.replace(\" \",\"\") for s in absf_df.loc[:, mod_df[0]]]\n",
    "mod2_df = check_float(df)\n",
    "mod2_df"
   ]
  },
  {
   "cell_type": "markdown",
   "metadata": {},
   "source": [
    "Finalmente, solo nos queda una columna. Sin embargo, esta no será transformada. Ya que posee datos que no son '-'."
   ]
  },
  {
   "cell_type": "code",
   "execution_count": 347,
   "metadata": {},
   "outputs": [
    {
     "data": {
      "text/plain": [
       "ND        69\n",
       "234752     1\n",
       "278406     1\n",
       "70703      1\n",
       "Name: SEGSEP, dtype: int64"
      ]
     },
     "execution_count": 347,
     "metadata": {},
     "output_type": "execute_result"
    }
   ],
   "source": [
    "df['SEGSEP'].value_counts()"
   ]
  },
  {
   "cell_type": "markdown",
   "metadata": {},
   "source": [
    "Entonces, solo remplazarmemos por espacios en blanco. "
   ]
  },
  {
   "cell_type": "code",
   "execution_count": 348,
   "metadata": {},
   "outputs": [
    {
     "data": {
      "text/plain": [
       "234752    1\n",
       "278406    1\n",
       "70703     1\n",
       "Name: SEGSEP, dtype: int64"
      ]
     },
     "execution_count": 348,
     "metadata": {},
     "output_type": "execute_result"
    }
   ],
   "source": [
    "df = df.replace('ND',pd.NA)\n",
    "df['SEGSEP'].value_counts()"
   ]
  },
  {
   "cell_type": "markdown",
   "metadata": {},
   "source": [
    "Finalmente, guardamos el archivo. "
   ]
  },
  {
   "cell_type": "code",
   "execution_count": 349,
   "metadata": {},
   "outputs": [],
   "source": [
    "df['CVEGEO'] = df['CVEGEO'].astype(str)\n",
    "df.to_excel('..\\\\results\\\\database\\\\abs_float.xlsx')\n",
    "absolute_df = df.copy()"
   ]
  },
  {
   "cell_type": "markdown",
   "metadata": {},
   "source": [
    "Ahora checaremos los datos porcentuales. "
   ]
  },
  {
   "cell_type": "code",
   "execution_count": 358,
   "metadata": {},
   "outputs": [],
   "source": [
    "mod_per = check_float(perf_df)\n",
    "\n",
    "for col in mod_per:\n",
    "    u = (perf_df.loc[:, col] == '-').sum()\n",
    "    if u == 72:\n",
    "        perf_df = perf_df.drop(columns=col)\n",
    "mod_per = check_float(perf_df)\n",
    "df = perf_df.copy()"
   ]
  },
  {
   "cell_type": "code",
   "execution_count": 359,
   "metadata": {},
   "outputs": [
    {
     "data": {
      "text/plain": [
       "92.3    1\n",
       "46.5    1\n",
       "42.9    1\n",
       "Name: SEGSEP, dtype: int64"
      ]
     },
     "execution_count": 359,
     "metadata": {},
     "output_type": "execute_result"
    }
   ],
   "source": [
    "df = df.replace('ND',pd.NA)\n",
    "df['SEGSEP'].value_counts()"
   ]
  },
  {
   "cell_type": "code",
   "execution_count": 360,
   "metadata": {},
   "outputs": [
    {
     "data": {
      "text/plain": [
       "CVEGEO      object\n",
       "PT1990     float64\n",
       "PT2000     float64\n",
       "PT2010     float64\n",
       "PT2020     float64\n",
       "            ...   \n",
       "AGEBURB    float64\n",
       "AGEBRUR    float64\n",
       "MANURB     float64\n",
       "MANRUR     float64\n",
       "SUP        float64\n",
       "Length: 141, dtype: object"
      ]
     },
     "execution_count": 360,
     "metadata": {},
     "output_type": "execute_result"
    }
   ],
   "source": [
    "df['CVEGEO'] = df['CVEGEO'].astype(str)\n",
    "\n",
    "df.dtypes\n"
   ]
  },
  {
   "cell_type": "code",
   "execution_count": 361,
   "metadata": {},
   "outputs": [],
   "source": [
    "df.to_excel('..\\\\results\\\\database\\\\per_float.xlsx')\n",
    "percentage_df = df.copy()"
   ]
  },
  {
   "cell_type": "markdown",
   "metadata": {},
   "source": [
    "# Incorporando Mapas."
   ]
  },
  {
   "cell_type": "code",
   "execution_count": 362,
   "metadata": {},
   "outputs": [],
   "source": [
    "import matplotlib.pyplot as plt\n",
    "import geopandas as gpd\n",
    "import seaborn as sns\n",
    "import requests\n",
    "import zipfile\n",
    "import fiona \n",
    "\n",
    "\n",
    "# Paleta de Colores\n",
    "colors = {\n",
    "    \"green\": '#097275',\n",
    "    \"silver\": '#A8A8A7',\n",
    "    \"brown\": '#7C5C15',\n",
    "    \"orange\": '#C96C1C',\n",
    "    \"gold\": '#CCB656',\n",
    "    \"cherry\": '#832347'\n",
    "}\n",
    "\n",
    "isaf = [c[1] for c in colors.items()]\n",
    "\n",
    "isaf = sns.color_palette(isaf)\n",
    "\n",
    "# Descarga de Poligonos.\n",
    "shapes_url = \"https://www.inegi.org.mx/contenidos/productos/prod_serv/contenidos/espanol/bvinegi/productos/geografia/marcogeo/889463807469/26_sonora.zip\"\n",
    "shapes_archivo = \"data\\\\26_sonora.zip\"\n",
    "\n",
    "r = requests.get(shapes_url, allow_redirects=True)\n",
    "open(\"..\\\\data\\\\Sonora.zip\", 'wb').write(r.content)\n",
    "\n",
    "with zipfile.ZipFile(\"..\\\\data\\\\Sonora.zip\", 'r') as zip_ref:\n",
    "    zip_ref.extractall(\"..\\\\data\\\\geoSonora\")\n",
    "\n",
    "\n",
    "\n",
    "shape = fiona.open(\"..\\\\data\\\\geoSonora\\\\conjunto_de_datos\\\\26mun.shp\")\n",
    "Sonora = gpd.GeoDataFrame.from_features([feature for feature in shape])\n",
    "# Get the order of the fields in the Fiona Collection; add geometry to the end\n",
    "columns = list(shape.meta[\"schema\"][\"properties\"]) + [\"geometry\"]\n",
    "# Re-order columns in the correct order\n",
    "Sonora = Sonora[columns]"
   ]
  },
  {
   "cell_type": "markdown",
   "metadata": {},
   "source": [
    "En Sonora tenemos la base de datos de los polígonos para la creación de mapas. Ahora, debemos incorporar nuestros dataframes."
   ]
  },
  {
   "cell_type": "code",
   "execution_count": 384,
   "metadata": {},
   "outputs": [],
   "source": [
    "gd_son_abs = gpd.GeoDataFrame(geometry=Sonora['geometry'],crs='epsg:3857')\n",
    "gd_son_pers = gpd.GeoDataFrame(geometry=Sonora['geometry'],crs='epsg:3857')\n"
   ]
  }
 ],
 "metadata": {
  "kernelspec": {
   "display_name": "base",
   "language": "python",
   "name": "python3"
  },
  "language_info": {
   "codemirror_mode": {
    "name": "ipython",
    "version": 3
   },
   "file_extension": ".py",
   "mimetype": "text/x-python",
   "name": "python",
   "nbconvert_exporter": "python",
   "pygments_lexer": "ipython3",
   "version": "3.10.13"
  }
 },
 "nbformat": 4,
 "nbformat_minor": 2
}
